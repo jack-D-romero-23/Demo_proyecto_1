{
 "cells": [
  {
   "cell_type": "markdown",
   "id": "3Xg_RQfnafXz",
   "metadata": {
    "id": "3Xg_RQfnafXz"
   },
   "source": [
    "# ¡Llena ese carrito!"
   ]
  },
  {
   "cell_type": "markdown",
   "id": "mhIvmmkW414q",
   "metadata": {
    "id": "mhIvmmkW414q"
   },
   "source": [
    "# Introducción\n",
    "\n",
    "Instacart es una plataforma de entregas de comestibles donde la clientela puede registrar un pedido y hacer que se lo entreguen, similar a Uber Eats y Door Dash.\n",
    "El conjunto de datos que te hemos proporcionado tiene modificaciones del original. Redujimos el tamaño del conjunto para que tus cálculos se hicieran más rápido e introdujimos valores ausentes y duplicados. Tuvimos cuidado de conservar las distribuciones de los datos originales cuando hicimos los cambios.\n",
    "\n",
    "Debes completar tres pasos. Para cada uno de ellos, escribe una breve introducción que refleje con claridad cómo pretendes resolver cada paso, y escribe párrafos explicatorios que justifiquen tus decisiones al tiempo que avanzas en tu solución.  También escribe una conclusión que resuma tus hallazgos y elecciones.\n"
   ]
  },
  {
   "cell_type": "markdown",
   "id": "3MbyzpOQZ5Or",
   "metadata": {
    "id": "3MbyzpOQZ5Or"
   },
   "source": [
    "## Diccionario de datos\n",
    "\n",
    "Hay cinco tablas en el conjunto de datos, y tendrás que usarlas todas para hacer el preprocesamiento de datos y el análisis exploratorio de datos. A continuación se muestra un diccionario de datos que enumera las columnas de cada tabla y describe los datos que contienen.\n",
    "\n",
    "- `instacart_orders.csv`: cada fila corresponde a un pedido en la aplicación Instacart.\n",
    "    - `'order_id'`: número de ID que identifica de manera única cada pedido.\n",
    "    - `'user_id'`: número de ID que identifica de manera única la cuenta de cada cliente.\n",
    "    - `'order_number'`: el número de veces que este cliente ha hecho un pedido.\n",
    "    - `'order_dow'`: día de la semana en que se hizo el pedido (0 si es domingo).\n",
    "    - `'order_hour_of_day'`: hora del día en que se hizo el pedido.\n",
    "    - `'days_since_prior_order'`: número de días transcurridos desde que este cliente hizo su pedido anterior.\n",
    "- `products.csv`: cada fila corresponde a un producto único que pueden comprar los clientes.\n",
    "    - `'product_id'`: número ID que identifica de manera única cada producto.\n",
    "    - `'product_name'`: nombre del producto.\n",
    "    - `'aisle_id'`: número ID que identifica de manera única cada categoría de pasillo de víveres.\n",
    "    - `'department_id'`: número ID que identifica de manera única cada departamento de víveres.\n",
    "- `order_products.csv`: cada fila corresponde a un artículo pedido en un pedido.\n",
    "    - `'order_id'`: número de ID que identifica de manera única cada pedido.\n",
    "    - `'product_id'`: número ID que identifica de manera única cada producto.\n",
    "    - `'add_to_cart_order'`: el orden secuencial en el que se añadió cada artículo en el carrito.\n",
    "    - `'reordered'`: 0 si el cliente nunca ha pedido este producto antes, 1 si lo ha pedido.\n",
    "- `aisles.csv`\n",
    "    - `'aisle_id'`: número ID que identifica de manera única cada categoría de pasillo de víveres.\n",
    "    - `'aisle'`: nombre del pasillo.\n",
    "- `departments.csv`\n",
    "    - `'department_id'`: número ID que identifica de manera única cada departamento de víveres.\n",
    "    - `'department'`: nombre del departamento."
   ]
  },
  {
   "cell_type": "markdown",
   "id": "n3Ha_cNSZ8lK",
   "metadata": {
    "id": "n3Ha_cNSZ8lK"
   },
   "source": [
    "# Paso 1. Descripción de los datos\n",
    "\n",
    "Lee los archivos de datos (`/datasets/instacart_orders.csv`, `/datasets/products.csv`, `/datasets/aisles.csv`, `/datasets/departments.csv` y `/datasets/order_products.csv`) con `pd.read_csv()` usando los parámetros adecuados para leer los datos correctamente. Verifica la información para cada DataFrame creado.\n"
   ]
  },
  {
   "cell_type": "markdown",
   "id": "OmlQPLlyaAfR",
   "metadata": {
    "id": "OmlQPLlyaAfR"
   },
   "source": [
    "## Plan de solución\n",
    "\n",
    "Escribe aquí tu plan de solución para el Paso 1. Descripción de los datos."
   ]
  },
  {
   "cell_type": "code",
   "execution_count": 1,
   "id": "fbf1adab",
   "metadata": {
    "id": "fbf1adab"
   },
   "outputs": [],
   "source": [
    "# importar librerías\n",
    "import pandas as pd\n",
    "import numpy as np\n",
    "import matplotlib as plot\n",
    "from matplotlib import pyplot as plt\n",
    "%matplotlib inline"
   ]
  },
  {
   "cell_type": "code",
   "execution_count": 2,
   "id": "ad36396d",
   "metadata": {
    "id": "ad36396d"
   },
   "outputs": [],
   "source": [
    "# leer conjuntos de datos en los DataFrames\n",
    "instacart_orders= pd.read_csv('/datasets/instacart_orders.csv',sep= ';')\n",
    "products= pd.read_csv('/datasets/products.csv',sep= ';')\n",
    "aisles= pd.read_csv('/datasets/aisles.csv',sep= ';')\n",
    "departments= pd.read_csv('/datasets/departments.csv',sep= ';')\n",
    "order_products= pd.read_csv('/datasets/order_products.csv',sep= ';')\n"
   ]
  },
  {
   "cell_type": "code",
   "execution_count": 3,
   "id": "ad6a1efa",
   "metadata": {
    "id": "ad6a1efa"
   },
   "outputs": [
    {
     "name": "stdout",
     "output_type": "stream",
     "text": [
      "   order_id  user_id  order_number  order_dow  order_hour_of_day  \\\n",
      "0   1515936   183418            11          6                 13   \n",
      "1   1690866   163593             5          5                 12   \n",
      "2   1454967    39980             4          5                 19   \n",
      "3   1768857    82516            56          0                 20   \n",
      "4   3007858   196724             2          4                 12   \n",
      "\n",
      "   days_since_prior_order  \n",
      "0                    30.0  \n",
      "1                     9.0  \n",
      "2                     2.0  \n",
      "3                    10.0  \n",
      "4                    17.0  \n",
      "<class 'pandas.core.frame.DataFrame'>\n",
      "RangeIndex: 478967 entries, 0 to 478966\n",
      "Data columns (total 6 columns):\n",
      " #   Column                  Non-Null Count   Dtype  \n",
      "---  ------                  --------------   -----  \n",
      " 0   order_id                478967 non-null  int64  \n",
      " 1   user_id                 478967 non-null  int64  \n",
      " 2   order_number            478967 non-null  int64  \n",
      " 3   order_dow               478967 non-null  int64  \n",
      " 4   order_hour_of_day       478967 non-null  int64  \n",
      " 5   days_since_prior_order  450148 non-null  float64\n",
      "dtypes: float64(1), int64(5)\n",
      "memory usage: 21.9 MB\n",
      "None\n"
     ]
    }
   ],
   "source": [
    "# mostrar información del DataFrame\n",
    "print(instacart_orders.head())\n",
    "print(instacart_orders.info())"
   ]
  },
  {
   "cell_type": "code",
   "execution_count": 4,
   "id": "5130e05e",
   "metadata": {
    "id": "5130e05e"
   },
   "outputs": [
    {
     "name": "stdout",
     "output_type": "stream",
     "text": [
      "   product_id                                       product_name  aisle_id  \\\n",
      "0           1                         Chocolate Sandwich Cookies        61   \n",
      "1           2                                   All-Seasons Salt       104   \n",
      "2           3               Robust Golden Unsweetened Oolong Tea        94   \n",
      "3           4  Smart Ones Classic Favorites Mini Rigatoni Wit...        38   \n",
      "4           5                          Green Chile Anytime Sauce         5   \n",
      "\n",
      "   department_id  \n",
      "0             19  \n",
      "1             13  \n",
      "2              7  \n",
      "3              1  \n",
      "4             13  \n",
      "<class 'pandas.core.frame.DataFrame'>\n",
      "RangeIndex: 49694 entries, 0 to 49693\n",
      "Data columns (total 4 columns):\n",
      " #   Column         Non-Null Count  Dtype \n",
      "---  ------         --------------  ----- \n",
      " 0   product_id     49694 non-null  int64 \n",
      " 1   product_name   48436 non-null  object\n",
      " 2   aisle_id       49694 non-null  int64 \n",
      " 3   department_id  49694 non-null  int64 \n",
      "dtypes: int64(3), object(1)\n",
      "memory usage: 1.5+ MB\n",
      "None\n"
     ]
    }
   ],
   "source": [
    "# mostrar información del DataFrame\n",
    "print(products.head())\n",
    "print(products.info())"
   ]
  },
  {
   "cell_type": "code",
   "execution_count": 5,
   "id": "d8370c05",
   "metadata": {
    "id": "d8370c05"
   },
   "outputs": [
    {
     "name": "stdout",
     "output_type": "stream",
     "text": [
      "   aisle_id                       aisle\n",
      "0         1       prepared soups salads\n",
      "1         2           specialty cheeses\n",
      "2         3         energy granola bars\n",
      "3         4               instant foods\n",
      "4         5  marinades meat preparation\n",
      "<class 'pandas.core.frame.DataFrame'>\n",
      "RangeIndex: 134 entries, 0 to 133\n",
      "Data columns (total 2 columns):\n",
      " #   Column    Non-Null Count  Dtype \n",
      "---  ------    --------------  ----- \n",
      " 0   aisle_id  134 non-null    int64 \n",
      " 1   aisle     134 non-null    object\n",
      "dtypes: int64(1), object(1)\n",
      "memory usage: 2.2+ KB\n",
      "None\n"
     ]
    }
   ],
   "source": [
    "# mostrar información del DataFrame\n",
    "print(aisles.head())\n",
    "print(aisles.info())"
   ]
  },
  {
   "cell_type": "code",
   "execution_count": 6,
   "id": "59e2090f",
   "metadata": {
    "id": "59e2090f"
   },
   "outputs": [
    {
     "name": "stdout",
     "output_type": "stream",
     "text": [
      "   department_id department\n",
      "0              1     frozen\n",
      "1              2      other\n",
      "2              3     bakery\n",
      "3              4    produce\n",
      "4              5    alcohol\n",
      "<class 'pandas.core.frame.DataFrame'>\n",
      "RangeIndex: 21 entries, 0 to 20\n",
      "Data columns (total 2 columns):\n",
      " #   Column         Non-Null Count  Dtype \n",
      "---  ------         --------------  ----- \n",
      " 0   department_id  21 non-null     int64 \n",
      " 1   department     21 non-null     object\n",
      "dtypes: int64(1), object(1)\n",
      "memory usage: 464.0+ bytes\n",
      "None\n"
     ]
    }
   ],
   "source": [
    "# mostrar información del DataFrame\n",
    "print(departments.head())\n",
    "print(departments.info())"
   ]
  },
  {
   "cell_type": "code",
   "execution_count": 7,
   "id": "6fc81694",
   "metadata": {
    "id": "6fc81694"
   },
   "outputs": [
    {
     "name": "stdout",
     "output_type": "stream",
     "text": [
      "   order_id  product_id  add_to_cart_order  reordered\n",
      "0   2141543       11440               17.0          0\n",
      "1    567889        1560                1.0          1\n",
      "2   2261212       26683                1.0          1\n",
      "3    491251        8670               35.0          1\n",
      "4   2571142        1940                5.0          1\n",
      "<class 'pandas.core.frame.DataFrame'>\n",
      "RangeIndex: 4545007 entries, 0 to 4545006\n",
      "Data columns (total 4 columns):\n",
      " #   Column             Non-Null Count    Dtype  \n",
      "---  ------             --------------    -----  \n",
      " 0   order_id           4545007 non-null  int64  \n",
      " 1   product_id         4545007 non-null  int64  \n",
      " 2   add_to_cart_order  4544171 non-null  float64\n",
      " 3   reordered          4545007 non-null  int64  \n",
      "dtypes: float64(1), int64(3)\n",
      "memory usage: 138.7 MB\n",
      "None\n"
     ]
    }
   ],
   "source": [
    "# mostrar información del DataFrame\n",
    "print(order_products.head())\n",
    "print(order_products.info(null_counts=True))"
   ]
  },
  {
   "cell_type": "markdown",
   "id": "t75BD19oaR5f",
   "metadata": {
    "id": "t75BD19oaR5f"
   },
   "source": [
    "## Conclusiones\n",
    "\n",
    "Escribe aquí tus conclusiones intermedias sobre el Paso 1. Descripción de los datos.\n",
    "En 3 de los 5 data frames hay datos nulos o ausentes, y son tanto de tipo categorical(object) y float. "
   ]
  },
  {
   "cell_type": "markdown",
   "id": "8RJHqxVmaVsF",
   "metadata": {
    "id": "8RJHqxVmaVsF"
   },
   "source": [
    "# Paso 2. Preprocesamiento de los datos\n",
    "\n",
    "Preprocesa los datos de la siguiente manera:\n",
    "\n",
    "- Verifica y corrige los tipos de datos (por ejemplo, asegúrate de que las columnas de ID sean números enteros).\n",
    "- Identifica y completa los valores ausentes.\n",
    "- Identifica y elimina los valores duplicados.\n",
    "\n",
    "Asegúrate de explicar qué tipos de valores ausentes y duplicados encontraste, cómo los completaste o eliminaste y por qué usaste esos métodos. ¿Por qué crees que estos valores ausentes y duplicados pueden haber estado presentes en el conjunto de datos?"
   ]
  },
  {
   "cell_type": "markdown",
   "id": "p6poABZQaZYb",
   "metadata": {
    "id": "p6poABZQaZYb"
   },
   "source": [
    "## Plan de solución\n",
    "\n",
    "Escribe aquí tu plan para el Paso 2. Preprocesamiento de los datos.\n",
    "El plan va consitir en limpiar cada dataset por separado, en cada uno se verificaran que los tipos de datos sean coherentes con los datos, e identificar y completar valores ausentes, así como identificar y liminar valores duplicados. "
   ]
  },
  {
   "cell_type": "markdown",
   "id": "07357848-dc64-4156-9cc3-01ff4365226d",
   "metadata": {
    "id": "07357848-dc64-4156-9cc3-01ff4365226d"
   },
   "source": [
    "## Encuentra y elimina los valores duplicados (y describe cómo tomaste tus decisiones)."
   ]
  },
  {
   "cell_type": "markdown",
   "id": "f179f0a9",
   "metadata": {
    "id": "f179f0a9"
   },
   "source": [
    "### `instacart_orders` data frame"
   ]
  },
  {
   "cell_type": "code",
   "execution_count": 8,
   "id": "b99297a5-405a-463d-8535-9adc3da4ad74",
   "metadata": {
    "id": "b99297a5-405a-463d-8535-9adc3da4ad74"
   },
   "outputs": [
    {
     "name": "stdout",
     "output_type": "stream",
     "text": [
      "15\n",
      "        order_id  user_id  order_number  order_dow  order_hour_of_day  \\\n",
      "145574    794638    50898            24          3                  2   \n",
      "223105   2160484   107525            16          3                  2   \n",
      "230807   1918001   188546            14          3                  2   \n",
      "266232   1782114   106752             1          3                  2   \n",
      "273805   1112182   202304            84          3                  2   \n",
      "284038   2845099    31189            11          3                  2   \n",
      "311713   1021560    53767             3          3                  2   \n",
      "321100    408114    68324             4          3                  2   \n",
      "323900   1919531   191501            32          3                  2   \n",
      "345917   2232988    82565             1          3                  2   \n",
      "371905    391768    57671            19          3                  2   \n",
      "394347    467134    63189            21          3                  2   \n",
      "411408   1286742   183220            48          3                  2   \n",
      "415163   2282673    86751            49          3                  2   \n",
      "441599   2125197    14050            48          3                  2   \n",
      "\n",
      "        days_since_prior_order  \n",
      "145574                     2.0  \n",
      "223105                    30.0  \n",
      "230807                    16.0  \n",
      "266232                     NaN  \n",
      "273805                     6.0  \n",
      "284038                     7.0  \n",
      "311713                     9.0  \n",
      "321100                    18.0  \n",
      "323900                     7.0  \n",
      "345917                     NaN  \n",
      "371905                    10.0  \n",
      "394347                     2.0  \n",
      "411408                     4.0  \n",
      "415163                     2.0  \n",
      "441599                     3.0  \n"
     ]
    }
   ],
   "source": [
    "# Revisa si hay pedidos duplicados\n",
    "print(instacart_orders.duplicated().sum())\n",
    "print(instacart_orders[instacart_orders.duplicated()])"
   ]
  },
  {
   "cell_type": "markdown",
   "id": "PEkwUX_gvt5A",
   "metadata": {
    "id": "PEkwUX_gvt5A"
   },
   "source": [
    "¿Tienes líneas duplicadas? Si sí, ¿qué tienen en común? Tienen en común que son todos del día 3 o sea miércoles a las 2am"
   ]
  },
  {
   "cell_type": "code",
   "execution_count": 9,
   "id": "0d44de5d",
   "metadata": {
    "id": "0d44de5d"
   },
   "outputs": [
    {
     "name": "stdout",
     "output_type": "stream",
     "text": [
      "        order_id  user_id  order_number  order_dow  order_hour_of_day  \\\n",
      "4838     2766110   162084            41          3                  2   \n",
      "5156     2190225   138285            18          3                  2   \n",
      "15506     553049    58599            13          3                  2   \n",
      "18420     382357   120200            19          3                  2   \n",
      "24691     690242    77357             2          3                  2   \n",
      "...          ...      ...           ...        ...                ...   \n",
      "457013   3384021    14881             6          3                  2   \n",
      "458816    910166   164782            18          3                  2   \n",
      "459635   1680532   106435             6          3                  2   \n",
      "468324    222962    54979            59          3                  2   \n",
      "477526   2592344    46860            38          3                  2   \n",
      "\n",
      "        days_since_prior_order  \n",
      "4838                      16.0  \n",
      "5156                      11.0  \n",
      "15506                      7.0  \n",
      "18420                     11.0  \n",
      "24691                      9.0  \n",
      "...                        ...  \n",
      "457013                    30.0  \n",
      "458816                     4.0  \n",
      "459635                    21.0  \n",
      "468324                     3.0  \n",
      "477526                     3.0  \n",
      "\n",
      "[121 rows x 6 columns]\n"
     ]
    }
   ],
   "source": [
    "# Basándote en tus hallazgos,\n",
    "# Verifica todos los pedidos que se hicieron el miércoles a las 2:00 a.m.\n",
    "\n",
    "filtered_instacart_orders= instacart_orders[(instacart_orders['order_dow']==3) & (instacart_orders['order_hour_of_day']==2)]\n",
    "print(filtered_instacart_orders)\n"
   ]
  },
  {
   "cell_type": "markdown",
   "id": "vu2OWyoqwOx5",
   "metadata": {
    "id": "vu2OWyoqwOx5"
   },
   "source": [
    "¿Qué sugiere este resultado? que hay 15 duplicados en 121 resultados "
   ]
  },
  {
   "cell_type": "code",
   "execution_count": 10,
   "id": "480563c7",
   "metadata": {
    "id": "480563c7"
   },
   "outputs": [],
   "source": [
    "# Elimina los pedidos duplicados\n",
    "instacart_orders=instacart_orders.drop_duplicates()"
   ]
  },
  {
   "cell_type": "code",
   "execution_count": 11,
   "id": "0b2396a2",
   "metadata": {
    "id": "0b2396a2"
   },
   "outputs": [
    {
     "name": "stdout",
     "output_type": "stream",
     "text": [
      "0\n"
     ]
    }
   ],
   "source": [
    "# Vuelve a verificar si hay filas duplicadas\n",
    "print(instacart_orders.duplicated().sum())"
   ]
  },
  {
   "cell_type": "code",
   "execution_count": 12,
   "id": "f6113ef1",
   "metadata": {
    "id": "f6113ef1"
   },
   "outputs": [
    {
     "name": "stdout",
     "output_type": "stream",
     "text": [
      "Empty DataFrame\n",
      "Columns: [order_id, user_id, order_number, order_dow, order_hour_of_day, days_since_prior_order]\n",
      "Index: []\n"
     ]
    }
   ],
   "source": [
    "# Vuelve a verificar si hay IDs duplicados de pedidos\n",
    "print(instacart_orders[instacart_orders['order_id'].duplicated()])"
   ]
  },
  {
   "cell_type": "markdown",
   "id": "5e8905ae",
   "metadata": {
    "id": "5e8905ae"
   },
   "source": [
    "Describe brevemente tus hallazgos y lo que hiciste con ellos: se encontró que los duplicados cumplian un patron y los eliminamos"
   ]
  },
  {
   "cell_type": "markdown",
   "id": "45e6bc46",
   "metadata": {
    "id": "45e6bc46"
   },
   "source": [
    "### `products` data frame"
   ]
  },
  {
   "cell_type": "code",
   "execution_count": 13,
   "id": "5f526b5b-8175-46fa-a0fd-441767d50e64",
   "metadata": {
    "id": "5f526b5b-8175-46fa-a0fd-441767d50e64"
   },
   "outputs": [
    {
     "name": "stdout",
     "output_type": "stream",
     "text": [
      "0\n",
      "Empty DataFrame\n",
      "Columns: [product_id, product_name, aisle_id, department_id]\n",
      "Index: []\n"
     ]
    }
   ],
   "source": [
    "# Verifica si hay filas totalmente duplicadas\n",
    "print(products.duplicated().sum())\n",
    "print(products[products.duplicated()])"
   ]
  },
  {
   "cell_type": "code",
   "execution_count": 14,
   "id": "88daa4f4",
   "metadata": {
    "id": "88daa4f4"
   },
   "outputs": [
    {
     "name": "stdout",
     "output_type": "stream",
     "text": [
      "Empty DataFrame\n",
      "Columns: [product_id, product_name, aisle_id, department_id]\n",
      "Index: []\n"
     ]
    }
   ],
   "source": [
    "# Verifica si hay IDs duplicadas de productos\n",
    "print(products[products['product_id'].duplicated()])"
   ]
  },
  {
   "cell_type": "code",
   "execution_count": 15,
   "id": "c773f0bf",
   "metadata": {
    "id": "c773f0bf"
   },
   "outputs": [
    {
     "name": "stdout",
     "output_type": "stream",
     "text": [
      "       product_id                                     product_name  aisle_id  \\\n",
      "71             72                                              NaN       100   \n",
      "109           110                                              NaN       100   \n",
      "296           297                                              NaN       100   \n",
      "416           417                                              NaN       100   \n",
      "436           437                                              NaN       100   \n",
      "...           ...                                              ...       ...   \n",
      "49689       49690                    HIGH PERFORMANCE ENERGY DRINK        64   \n",
      "49690       49691                    ORIGINAL PANCAKE & WAFFLE MIX       130   \n",
      "49691       49692  ORGANIC INSTANT OATMEAL LIGHT MAPLE BROWN SUGAR       130   \n",
      "49692       49693                           SPRING WATER BODY WASH       127   \n",
      "49693       49694                          BURRITO- STEAK & CHEESE        38   \n",
      "\n",
      "       department_id  \n",
      "71                21  \n",
      "109               21  \n",
      "296               21  \n",
      "416               21  \n",
      "436               21  \n",
      "...              ...  \n",
      "49689              7  \n",
      "49690             14  \n",
      "49691             14  \n",
      "49692             11  \n",
      "49693              1  \n",
      "\n",
      "[1361 rows x 4 columns]\n"
     ]
    }
   ],
   "source": [
    "# Revisa si hay nombres duplicados de productos (convierte los nombres a letras mayúsculas para compararlos mejor)\n",
    "products['product_name'] = products['product_name'].str.upper()\n",
    "print(products[products['product_name'].duplicated()])"
   ]
  },
  {
   "cell_type": "code",
   "execution_count": 16,
   "id": "01efd02e",
   "metadata": {
    "id": "01efd02e"
   },
   "outputs": [
    {
     "name": "stdout",
     "output_type": "stream",
     "text": [
      "       product_id                                     product_name  aisle_id  \\\n",
      "2058         2059                                  BIOTIN 1000 MCG        47   \n",
      "5455         5456                 GREEN TEA WITH GINSENG AND HONEY        96   \n",
      "5558         5559                           CREAM OF MUSHROOM SOUP        69   \n",
      "7558         7559                        CINNAMON ROLLS WITH ICING       105   \n",
      "9037         9038                           AMERICAN CHEESE SLICES        21   \n",
      "...           ...                                              ...       ...   \n",
      "49689       49690                    HIGH PERFORMANCE ENERGY DRINK        64   \n",
      "49690       49691                    ORIGINAL PANCAKE & WAFFLE MIX       130   \n",
      "49691       49692  ORGANIC INSTANT OATMEAL LIGHT MAPLE BROWN SUGAR       130   \n",
      "49692       49693                           SPRING WATER BODY WASH       127   \n",
      "49693       49694                          BURRITO- STEAK & CHEESE        38   \n",
      "\n",
      "       department_id  \n",
      "2058              11  \n",
      "5455              20  \n",
      "5558              15  \n",
      "7558              13  \n",
      "9037              16  \n",
      "...              ...  \n",
      "49689              7  \n",
      "49690             14  \n",
      "49691             14  \n",
      "49692             11  \n",
      "49693              1  \n",
      "\n",
      "[104 rows x 4 columns]\n"
     ]
    }
   ],
   "source": [
    "# Revisa si hay nombres duplicados de productos no faltantes\n",
    "print(products[products['product_name'].duplicated() & products['product_name'].notna()])"
   ]
  },
  {
   "cell_type": "markdown",
   "id": "9da8d293",
   "metadata": {
    "id": "9da8d293"
   },
   "source": [
    "Describe brevemente tus hallazgos y lo que hiciste con ellos: descubrimos que no había filas completas duplicadas ni id de productos duplicadas pero sí hay nombres de productos duplicados lo cual puede deberse a un error al momento de capturar los datos y sería bueno preguntar si tienen algún nombre diferente para esos productos. "
   ]
  },
  {
   "cell_type": "markdown",
   "id": "60f30db1",
   "metadata": {
    "id": "60f30db1"
   },
   "source": [
    "### `departments` data frame"
   ]
  },
  {
   "cell_type": "code",
   "execution_count": 17,
   "id": "fb410ad4-0fbf-4b80-bb09-23fdea79afe3",
   "metadata": {
    "id": "fb410ad4-0fbf-4b80-bb09-23fdea79afe3"
   },
   "outputs": [
    {
     "name": "stdout",
     "output_type": "stream",
     "text": [
      "0\n",
      "Empty DataFrame\n",
      "Columns: [department_id, department]\n",
      "Index: []\n"
     ]
    }
   ],
   "source": [
    "# Revisa si hay filas totalmente duplicadas\n",
    "print(departments.duplicated().sum())\n",
    "print(departments[departments.duplicated()])"
   ]
  },
  {
   "cell_type": "code",
   "execution_count": 18,
   "id": "332b12bb",
   "metadata": {
    "id": "332b12bb"
   },
   "outputs": [
    {
     "name": "stdout",
     "output_type": "stream",
     "text": [
      "Empty DataFrame\n",
      "Columns: [department_id, department]\n",
      "Index: []\n"
     ]
    }
   ],
   "source": [
    "# Revisa si hay IDs duplicadas de productos\n",
    "print(departments[departments['department_id'].duplicated()])"
   ]
  },
  {
   "cell_type": "markdown",
   "id": "bd30d78e",
   "metadata": {
    "id": "bd30d78e"
   },
   "source": [
    "Describe brevemente tus hallazgos y lo que hiciste con ellos: el dataframe en cuestión no tiene duplicados, de momento no se hace nada más "
   ]
  },
  {
   "cell_type": "markdown",
   "id": "889349c1",
   "metadata": {
    "id": "889349c1"
   },
   "source": [
    "### `aisles` data frame"
   ]
  },
  {
   "cell_type": "code",
   "execution_count": 19,
   "id": "9da89fb9-4679-40f5-ad0d-c34df753a3f8",
   "metadata": {
    "id": "9da89fb9-4679-40f5-ad0d-c34df753a3f8"
   },
   "outputs": [
    {
     "name": "stdout",
     "output_type": "stream",
     "text": [
      "0\n",
      "Empty DataFrame\n",
      "Columns: [aisle_id, aisle]\n",
      "Index: []\n"
     ]
    }
   ],
   "source": [
    "# Revisa si hay filas totalmente duplicadas\n",
    "print(aisles.duplicated().sum())\n",
    "print(aisles[aisles.duplicated()])"
   ]
  },
  {
   "cell_type": "code",
   "execution_count": 20,
   "id": "da7c2822",
   "metadata": {
    "id": "da7c2822"
   },
   "outputs": [
    {
     "name": "stdout",
     "output_type": "stream",
     "text": [
      "Empty DataFrame\n",
      "Columns: [aisle_id, aisle]\n",
      "Index: []\n"
     ]
    }
   ],
   "source": [
    "# Revisa si hay IDs duplicadas de productos\n",
    "print(aisles[aisles['aisle_id'].duplicated()])"
   ]
  },
  {
   "cell_type": "markdown",
   "id": "ac63826f",
   "metadata": {
    "id": "ac63826f"
   },
   "source": [
    "Describe brevemente tus hallazgos y lo que hiciste con ellos: el dataframe en cuestión no tiene duplicados, de momento no se hace nada más "
   ]
  },
  {
   "cell_type": "markdown",
   "id": "274cd06a",
   "metadata": {
    "id": "274cd06a"
   },
   "source": [
    "### `order_products` data frame"
   ]
  },
  {
   "cell_type": "code",
   "execution_count": 21,
   "id": "52326689-84a8-4b8f-a881-7c68780f62c9",
   "metadata": {
    "id": "52326689-84a8-4b8f-a881-7c68780f62c9"
   },
   "outputs": [
    {
     "name": "stdout",
     "output_type": "stream",
     "text": [
      "0\n",
      "Empty DataFrame\n",
      "Columns: [order_id, product_id, add_to_cart_order, reordered]\n",
      "Index: []\n"
     ]
    }
   ],
   "source": [
    "# Revisa si hay filas totalmente duplicadas\n",
    "print(order_products.duplicated().sum())\n",
    "print(order_products[order_products.duplicated()])"
   ]
  },
  {
   "cell_type": "code",
   "execution_count": 22,
   "id": "7b861391",
   "metadata": {
    "id": "7b861391"
   },
   "outputs": [
    {
     "name": "stdout",
     "output_type": "stream",
     "text": [
      "         order_id  product_id  add_to_cart_order  reordered\n",
      "367       2867619       48094                9.0          0\n",
      "824        844425       39408               10.0          1\n",
      "1124      3319857       37067               19.0          0\n",
      "1258      1038788       12471               14.0          0\n",
      "1303      2825714       44632               16.0          1\n",
      "...           ...         ...                ...        ...\n",
      "4545002    577211       15290               12.0          1\n",
      "4545003   1219554       21914                9.0          0\n",
      "4545004    692640       47766                4.0          1\n",
      "4545005    319435         691                8.0          1\n",
      "4545006   1398151       28733                9.0          0\n",
      "\n",
      "[4094961 rows x 4 columns]\n",
      "         order_id  product_id  add_to_cart_order  reordered\n",
      "19        2500729       21616                5.0          1\n",
      "20        1687771       22963                5.0          1\n",
      "75        2186234       13176                2.0          1\n",
      "78         145751       47626                8.0          1\n",
      "80         497429       26209                9.0          1\n",
      "...           ...         ...                ...        ...\n",
      "4545002    577211       15290               12.0          1\n",
      "4545003   1219554       21914                9.0          0\n",
      "4545004    692640       47766                4.0          1\n",
      "4545005    319435         691                8.0          1\n",
      "4545006   1398151       28733                9.0          0\n",
      "\n",
      "[4499434 rows x 4 columns]\n",
      "         order_id  product_id  add_to_cart_order  reordered\n",
      "2         2261212       26683                1.0          1\n",
      "6          644579       12341                5.0          1\n",
      "9          420019       23315                4.0          1\n",
      "12         522547       40571               10.0          1\n",
      "14        1961225       37553                1.0          1\n",
      "...           ...         ...                ...        ...\n",
      "4545002    577211       15290               12.0          1\n",
      "4545003   1219554       21914                9.0          0\n",
      "4545004    692640       47766                4.0          1\n",
      "4545005    319435         691                8.0          1\n",
      "4545006   1398151       28733                9.0          0\n",
      "\n",
      "[4544942 rows x 4 columns]\n",
      "         order_id  product_id  add_to_cart_order  reordered\n",
      "2         2261212       26683                1.0          1\n",
      "3          491251        8670               35.0          1\n",
      "4         2571142        1940                5.0          1\n",
      "5         2456893       21616                4.0          1\n",
      "6          644579       12341                5.0          1\n",
      "...           ...         ...                ...        ...\n",
      "4545002    577211       15290               12.0          1\n",
      "4545003   1219554       21914                9.0          0\n",
      "4545004    692640       47766                4.0          1\n",
      "4545005    319435         691                8.0          1\n",
      "4545006   1398151       28733                9.0          0\n",
      "\n",
      "[4545005 rows x 4 columns]\n"
     ]
    }
   ],
   "source": [
    "# Vuelve a verificar si hay cualquier otro duplicado engañoso\n",
    "print(order_products[order_products['order_id'].duplicated()])\n",
    "print(order_products[order_products['product_id'].duplicated()])\n",
    "print(order_products[order_products['add_to_cart_order'].duplicated()])\n",
    "print(order_products[order_products['reordered'].duplicated()])"
   ]
  },
  {
   "cell_type": "markdown",
   "id": "0b890492",
   "metadata": {
    "id": "0b890492"
   },
   "source": [
    "Describe brevemente tus hallazgos y lo que hiciste con ellos: el data frame no tiene filas completas duplicadas. Sin embargo tiene valores duplicados en sus 4 columnas, en este caso hace sentido ya que cada fila es un producto que tiene tanto un product_id como order_id y precismente podria formar parte de una orden con varios productos y varias ordenes podrian tener productos iguales entre sí. "
   ]
  },
  {
   "cell_type": "markdown",
   "id": "1e46de76",
   "metadata": {
    "id": "1e46de76"
   },
   "source": [
    "## Encuentra y elimina los valores ausentes\n",
    "\n",
    "Al trabajar con valores duplicados, pudimos observar que también nos falta investigar valores ausentes:\n",
    "\n",
    "* La columna `'product_name'` de la tabla products.\n",
    "* La columna `'days_since_prior_order'` de la tabla orders.\n",
    "* La columna `'add_to_cart_order'` de la tabla order_productos."
   ]
  },
  {
   "cell_type": "markdown",
   "id": "c0aebd78",
   "metadata": {
    "id": "c0aebd78"
   },
   "source": [
    "### `products` data frame"
   ]
  },
  {
   "cell_type": "code",
   "execution_count": 23,
   "id": "fe4a8b0f",
   "metadata": {
    "id": "fe4a8b0f"
   },
   "outputs": [
    {
     "name": "stdout",
     "output_type": "stream",
     "text": [
      "NaN                                   1258\n",
      "GREEN TEA WITH GINSENG AND HONEY         3\n",
      "CONCENTRACE TRACE MINERAL DROPS          2\n",
      "DULCE DE LECHE CARAMEL ICE CREAM         2\n",
      "BLEU CHEESE SALAD DRESSING AND DIP       2\n",
      "                                      ... \n",
      "BUTTER BISCUITS                          1\n",
      "TROPICAL FLAVORED FRUIT SNACKS           1\n",
      "ORIGINAL POWDER LAUNDRY DETERGENT        1\n",
      "PIQUILLO ROASTED PEPPERS                 1\n",
      "FIBER                                    1\n",
      "Name: product_name, Length: 48333, dtype: int64\n",
      "       product_id product_name  aisle_id  department_id\n",
      "37             38          NaN       100             21\n",
      "71             72          NaN       100             21\n",
      "109           110          NaN       100             21\n",
      "296           297          NaN       100             21\n",
      "416           417          NaN       100             21\n",
      "...           ...          ...       ...            ...\n",
      "49552       49553          NaN       100             21\n",
      "49574       49575          NaN       100             21\n",
      "49640       49641          NaN       100             21\n",
      "49663       49664          NaN       100             21\n",
      "49668       49669          NaN       100             21\n",
      "\n",
      "[1258 rows x 4 columns]\n"
     ]
    }
   ],
   "source": [
    "# Encuentra los valores ausentes en la columna 'product_name'\n",
    "print(products['product_name'].value_counts(dropna=False))\n",
    "print(products[products['product_name'].isna()])"
   ]
  },
  {
   "cell_type": "markdown",
   "id": "-A6x1AbJhjkp",
   "metadata": {
    "id": "-A6x1AbJhjkp"
   },
   "source": [
    "Describe brevemente cuáles son tus hallazgos: hay 1,258 valores ausentes en la columna product_name, en la muestra parece ser que todos vienen del departamento 21 y de el pasillo 100. "
   ]
  },
  {
   "cell_type": "code",
   "execution_count": 24,
   "id": "e96167bc",
   "metadata": {
    "id": "e96167bc"
   },
   "outputs": [
    {
     "name": "stdout",
     "output_type": "stream",
     "text": [
      "       product_id product_name  aisle_id  department_id\n",
      "37             38          NaN       100             21\n",
      "71             72          NaN       100             21\n",
      "109           110          NaN       100             21\n",
      "296           297          NaN       100             21\n",
      "416           417          NaN       100             21\n",
      "...           ...          ...       ...            ...\n",
      "49552       49553          NaN       100             21\n",
      "49574       49575          NaN       100             21\n",
      "49640       49641          NaN       100             21\n",
      "49663       49664          NaN       100             21\n",
      "49668       49669          NaN       100             21\n",
      "\n",
      "[1258 rows x 4 columns]\n"
     ]
    }
   ],
   "source": [
    "#  ¿Todos los nombres de productos ausentes están relacionados con el pasillo con ID 100?\n",
    "print(products[products['aisle_id']==100])"
   ]
  },
  {
   "cell_type": "markdown",
   "id": "WRpIfXRphpSL",
   "metadata": {
    "id": "WRpIfXRphpSL"
   },
   "source": [
    "Describe brevemente cuáles son tus hallazgos: la cuenta es la misma 1,258, parece que todos los nan vienen del pasillo 100 "
   ]
  },
  {
   "cell_type": "code",
   "execution_count": 25,
   "id": "8fd0a541",
   "metadata": {
    "id": "8fd0a541"
   },
   "outputs": [
    {
     "name": "stdout",
     "output_type": "stream",
     "text": [
      "       product_id product_name  aisle_id  department_id\n",
      "37             38          NaN       100             21\n",
      "71             72          NaN       100             21\n",
      "109           110          NaN       100             21\n",
      "296           297          NaN       100             21\n",
      "416           417          NaN       100             21\n",
      "...           ...          ...       ...            ...\n",
      "49552       49553          NaN       100             21\n",
      "49574       49575          NaN       100             21\n",
      "49640       49641          NaN       100             21\n",
      "49663       49664          NaN       100             21\n",
      "49668       49669          NaN       100             21\n",
      "\n",
      "[1258 rows x 4 columns]\n"
     ]
    }
   ],
   "source": [
    "# ¿Todos los nombres de productos ausentes están relacionados con el departamento con ID 21?\n",
    "print(products[products['department_id']==21])"
   ]
  },
  {
   "cell_type": "markdown",
   "id": "qDpdYn1Fht_I",
   "metadata": {
    "id": "qDpdYn1Fht_I"
   },
   "source": [
    "Describe brevemente cuáles son tus hallazgos: la cuenta vuelve a coincidir en 1258 para los 3 filtros. "
   ]
  },
  {
   "cell_type": "code",
   "execution_count": 26,
   "id": "325c3464",
   "metadata": {
    "id": "325c3464"
   },
   "outputs": [
    {
     "name": "stdout",
     "output_type": "stream",
     "text": [
      "    department_id department\n",
      "20             21    missing\n",
      "    aisle_id    aisle\n",
      "99       100  missing\n"
     ]
    }
   ],
   "source": [
    "# Usa las tablas department y aisle para revisar los datos del pasillo con ID 100 y el departamento con ID 21.\n",
    "print(departments[departments['department_id']==21])\n",
    "print(aisles[aisles['aisle_id']==100])"
   ]
  },
  {
   "cell_type": "markdown",
   "id": "nqhSTUPhhvEJ",
   "metadata": {
    "id": "nqhSTUPhhvEJ"
   },
   "source": [
    "Describe brevemente cuáles son tus hallazgos: el dato del departamento 21 y del pasillo 100, estan missing, no son nulos solo no se sabe cuáles sean. "
   ]
  },
  {
   "cell_type": "code",
   "execution_count": 27,
   "id": "6b295120",
   "metadata": {
    "id": "6b295120"
   },
   "outputs": [
    {
     "name": "stdout",
     "output_type": "stream",
     "text": [
      "Unknown                                1258\n",
      "GREEN TEA WITH GINSENG AND HONEY          3\n",
      "ORIGINAL PANCAKE & WAFFLE MIX             2\n",
      "BLEU CHEESE SALAD DRESSING AND DIP        2\n",
      "DULCE DE LECHE CARAMEL ICE CREAM          2\n",
      "                                       ... \n",
      "TROPICAL FLAVORED FRUIT SNACKS            1\n",
      "ORIGINAL POWDER LAUNDRY DETERGENT         1\n",
      "PIQUILLO ROASTED PEPPERS                  1\n",
      "MACADAMIA OIL HYDRATING CONDITIONER       1\n",
      "FIBER                                     1\n",
      "Name: product_name, Length: 48333, dtype: int64\n",
      "Empty DataFrame\n",
      "Columns: [product_id, product_name, aisle_id, department_id]\n",
      "Index: []\n"
     ]
    }
   ],
   "source": [
    "# Completa los nombres de productos ausentes con 'Unknown'\n",
    "products['product_name'] = products['product_name'].fillna('Unknown')\n",
    "print(products['product_name'].value_counts(dropna=False))\n",
    "print(products[products['product_name'].isna()])"
   ]
  },
  {
   "cell_type": "markdown",
   "id": "fc70e5ad",
   "metadata": {
    "id": "fc70e5ad"
   },
   "source": [
    "Describe brevemente tus hallazgos y lo que hiciste con ellos: Verificamos cual podria ser la cause de los nulos en la variable categorica y al final los sustituimos por 'Unknown'"
   ]
  },
  {
   "cell_type": "markdown",
   "id": "7eb45c86",
   "metadata": {
    "id": "7eb45c86"
   },
   "source": [
    "### `orders` data frame"
   ]
  },
  {
   "cell_type": "code",
   "execution_count": 28,
   "id": "93e41d96",
   "metadata": {
    "id": "93e41d96"
   },
   "outputs": [
    {
     "name": "stdout",
     "output_type": "stream",
     "text": [
      "order_id                      0\n",
      "user_id                       0\n",
      "order_number                  0\n",
      "order_dow                     0\n",
      "order_hour_of_day             0\n",
      "days_since_prior_order    28817\n",
      "dtype: int64\n",
      "        order_id  user_id  order_number  order_dow  order_hour_of_day  \\\n",
      "28        133707   182261             1          3                 10   \n",
      "96        787445    25685             1          6                 18   \n",
      "100       294410   111449             1          0                 19   \n",
      "103      2869915   123958             1          4                 16   \n",
      "104      2521921    42286             1          3                 18   \n",
      "...          ...      ...           ...        ...                ...   \n",
      "478895   2589657   205028             1          0                 16   \n",
      "478896   2222353   141211             1          2                 13   \n",
      "478922   2272807   204154             1          1                 15   \n",
      "478926   2499542    68810             1          4                 19   \n",
      "478945   1387033    22496             1          5                 14   \n",
      "\n",
      "        days_since_prior_order  \n",
      "28                         NaN  \n",
      "96                         NaN  \n",
      "100                        NaN  \n",
      "103                        NaN  \n",
      "104                        NaN  \n",
      "...                        ...  \n",
      "478895                     NaN  \n",
      "478896                     NaN  \n",
      "478922                     NaN  \n",
      "478926                     NaN  \n",
      "478945                     NaN  \n",
      "\n",
      "[28817 rows x 6 columns]\n"
     ]
    }
   ],
   "source": [
    "# Encuentra los valores ausentes\n",
    "print(instacart_orders.isna().sum())\n",
    "print(instacart_orders[instacart_orders.isna().any(axis=1)])"
   ]
  },
  {
   "cell_type": "code",
   "execution_count": 29,
   "id": "166e5a86",
   "metadata": {
    "id": "166e5a86"
   },
   "outputs": [
    {
     "name": "stdout",
     "output_type": "stream",
     "text": [
      "        order_id  user_id  order_number  order_dow  order_hour_of_day  \\\n",
      "28        133707   182261             1          3                 10   \n",
      "96        787445    25685             1          6                 18   \n",
      "100       294410   111449             1          0                 19   \n",
      "103      2869915   123958             1          4                 16   \n",
      "104      2521921    42286             1          3                 18   \n",
      "...          ...      ...           ...        ...                ...   \n",
      "478895   2589657   205028             1          0                 16   \n",
      "478896   2222353   141211             1          2                 13   \n",
      "478922   2272807   204154             1          1                 15   \n",
      "478926   2499542    68810             1          4                 19   \n",
      "478945   1387033    22496             1          5                 14   \n",
      "\n",
      "        days_since_prior_order  \n",
      "28                         NaN  \n",
      "96                         NaN  \n",
      "100                        NaN  \n",
      "103                        NaN  \n",
      "104                        NaN  \n",
      "...                        ...  \n",
      "478895                     NaN  \n",
      "478896                     NaN  \n",
      "478922                     NaN  \n",
      "478926                     NaN  \n",
      "478945                     NaN  \n",
      "\n",
      "[28817 rows x 6 columns]\n"
     ]
    }
   ],
   "source": [
    "# ¿Hay algún valor ausente que no sea el primer pedido del cliente?\n",
    "print(instacart_orders[instacart_orders['order_number']==1])"
   ]
  },
  {
   "cell_type": "markdown",
   "id": "4e23d089",
   "metadata": {
    "id": "4e23d089"
   },
   "source": [
    "Describe brevemente tus hallazgos y lo que hiciste con ellos: Todos los nulos corresponden al primero pedido del cliente en la columna days_since_prior_order, lo cual aquí simplemente no aplica por ser la primera orden y los nan son precismente esa info."
   ]
  },
  {
   "cell_type": "markdown",
   "id": "69dc9ca4",
   "metadata": {
    "id": "69dc9ca4"
   },
   "source": [
    "### `order_products` data frame"
   ]
  },
  {
   "cell_type": "code",
   "execution_count": 30,
   "id": "b8240253",
   "metadata": {
    "id": "b8240253"
   },
   "outputs": [
    {
     "name": "stdout",
     "output_type": "stream",
     "text": [
      "order_id               0\n",
      "product_id             0\n",
      "add_to_cart_order    836\n",
      "reordered              0\n",
      "dtype: int64\n",
      "         order_id  product_id  add_to_cart_order  reordered\n",
      "737       2449164        5068                NaN          0\n",
      "9926      1968313       43867                NaN          0\n",
      "14394     2926893       11688                NaN          0\n",
      "16418     1717990        4142                NaN          0\n",
      "30114     1959075       42828                NaN          1\n",
      "...           ...         ...                ...        ...\n",
      "4505662   1800005        7411                NaN          0\n",
      "4511400   1633337         260                NaN          0\n",
      "4517562    404157        9517                NaN          0\n",
      "4534112   1673227       17835                NaN          0\n",
      "4535739   1832957       17949                NaN          1\n",
      "\n",
      "[836 rows x 4 columns]\n"
     ]
    }
   ],
   "source": [
    "# Encuentra los valores ausentes\n",
    "print(order_products.isna().sum())\n",
    "print(order_products[order_products.isna().any(axis=1)])"
   ]
  },
  {
   "cell_type": "code",
   "execution_count": 31,
   "id": "9a78e5ee",
   "metadata": {
    "id": "9a78e5ee"
   },
   "outputs": [
    {
     "name": "stdout",
     "output_type": "stream",
     "text": [
      "1.0\n",
      "64.0\n"
     ]
    }
   ],
   "source": [
    "# ¿Cuáles son los valores mínimos y máximos en esta columna?\n",
    "print(order_products['add_to_cart_order'].min())\n",
    "print(order_products['add_to_cart_order'].max())"
   ]
  },
  {
   "cell_type": "markdown",
   "id": "-Z2Ja215jW78",
   "metadata": {
    "id": "-Z2Ja215jW78"
   },
   "source": [
    "Describe brevemente cuáles son tus hallazgos: hay valores ausentes en la columna add_to_cart_order, los valores minimos y máximos nos indican que hay ordenes con 1 producto hasta ordenes con 64 productos"
   ]
  },
  {
   "cell_type": "code",
   "execution_count": 32,
   "id": "ab9d0c2b",
   "metadata": {
    "id": "ab9d0c2b"
   },
   "outputs": [
    {
     "name": "stdout",
     "output_type": "stream",
     "text": [
      "         order_id  product_id  add_to_cart_order  reordered\n",
      "737       2449164        5068                NaN          0\n",
      "9926      1968313       43867                NaN          0\n",
      "14394     2926893       11688                NaN          0\n",
      "16418     1717990        4142                NaN          0\n",
      "30114     1959075       42828                NaN          1\n",
      "...           ...         ...                ...        ...\n",
      "4505662   1800005        7411                NaN          0\n",
      "4511400   1633337         260                NaN          0\n",
      "4517562    404157        9517                NaN          0\n",
      "4534112   1673227       17835                NaN          0\n",
      "4535739   1832957       17949                NaN          1\n",
      "\n",
      "[836 rows x 4 columns]\n"
     ]
    }
   ],
   "source": [
    "# Guarda todas las IDs de pedidos que tengan un valor ausente en 'add_to_cart_order'\n",
    "ID_orders_null_add_to_cart = order_products[order_products['add_to_cart_order'].isna()]\n",
    "print(ID_orders_null_add_to_cart)"
   ]
  },
  {
   "cell_type": "code",
   "execution_count": 33,
   "id": "54c31695",
   "metadata": {
    "id": "54c31695"
   },
   "outputs": [
    {
     "name": "stdout",
     "output_type": "stream",
     "text": [
      "order_id\n",
      "9310        1\n",
      "61355      63\n",
      "102236     31\n",
      "129627      5\n",
      "165801      6\n",
      "           ..\n",
      "2999801     6\n",
      "3125735    22\n",
      "3308010    51\n",
      "3347453     7\n",
      "3383594     5\n",
      "Name: product_id, Length: 70, dtype: int64\n",
      "Valor mínimo de productos por pedido: 1\n"
     ]
    }
   ],
   "source": [
    "# ¿Todos los pedidos con valores ausentes tienen más de 64 productos?\n",
    "# Agrupa todos los pedidos con datos ausentes por su ID de pedido.\n",
    "# Cuenta el número de 'product_id' en cada pedido y revisa el valor mínimo del conteo.\n",
    "\n",
    "ID_orders_null_add_to_cart_grouped = ID_orders_null_add_to_cart.groupby('order_id')['product_id'].count()\n",
    "print(ID_orders_null_add_to_cart_grouped)\n",
    "print(\"Valor mínimo de productos por pedido:\", ID_orders_null_add_to_cart_grouped.min())"
   ]
  },
  {
   "cell_type": "markdown",
   "id": "p9V6pddtjglj",
   "metadata": {
    "id": "p9V6pddtjglj"
   },
   "source": [
    "Describe brevemente cuáles son tus hallazgos: la respuesta breve es que no, no todos los pedidos con valores ausentes tienen 64 productos."
   ]
  },
  {
   "cell_type": "code",
   "execution_count": 34,
   "id": "7a987d08",
   "metadata": {
    "id": "7a987d08"
   },
   "outputs": [
    {
     "name": "stdout",
     "output_type": "stream",
     "text": [
      "order_id             0\n",
      "product_id           0\n",
      "add_to_cart_order    0\n",
      "reordered            0\n",
      "dtype: int64\n",
      "Empty DataFrame\n",
      "Columns: [order_id, product_id, add_to_cart_order, reordered]\n",
      "Index: []\n",
      "<class 'pandas.core.frame.DataFrame'>\n",
      "RangeIndex: 4545007 entries, 0 to 4545006\n",
      "Data columns (total 4 columns):\n",
      " #   Column             Non-Null Count    Dtype\n",
      "---  ------             --------------    -----\n",
      " 0   order_id           4545007 non-null  int64\n",
      " 1   product_id         4545007 non-null  int64\n",
      " 2   add_to_cart_order  4545007 non-null  int64\n",
      " 3   reordered          4545007 non-null  int64\n",
      "dtypes: int64(4)\n",
      "memory usage: 138.7 MB\n",
      "None\n"
     ]
    }
   ],
   "source": [
    "# Remplaza los valores ausentes en la columna 'add_to_cart? con 999 y convierte la columna al tipo entero.\n",
    "order_products['add_to_cart_order'] = order_products['add_to_cart_order'].fillna(999)\n",
    "order_products['add_to_cart_order'] = order_products['add_to_cart_order'].astype(int)\n",
    "print(order_products.isna().sum())\n",
    "print(order_products[order_products.isna().any(axis=1)])\n",
    "print(order_products.info(null_counts=True))"
   ]
  },
  {
   "cell_type": "markdown",
   "id": "fea4bcc7",
   "metadata": {
    "id": "fea4bcc7"
   },
   "source": [
    "Describe brevemente tus hallazgos y lo que hiciste con ellos: exploramos los nulos de la columna add_to_cart_order y los llenamos con 999, y convertimos la columna a entero "
   ]
  },
  {
   "cell_type": "markdown",
   "id": "RnplPFY1gSrb",
   "metadata": {
    "id": "RnplPFY1gSrb"
   },
   "source": [
    "## Conclusiones\n",
    "\n",
    "Escribe aquí tus conclusiones intermedias sobre el Paso 2. Preprocesamiento de los datos: Realizar este proceso es importante ya que ayuda a que los resultados del análisis sean precisos y valiosos, así mismo hay que estar muy atento a los posibles problemas de la data ya que no simpre es tan obvio como reemplazar por 'unknown' o rellenear variables cuantitativas, hay que explorar los datasets y ver que necesitan y que problems presentan. \n"
   ]
  },
  {
   "cell_type": "markdown",
   "id": "UjrOIwTcz3ri",
   "metadata": {
    "id": "UjrOIwTcz3ri"
   },
   "source": [
    "# Paso 3. Análisis de los datos\n",
    "\n",
    "Una vez los datos estén procesados y listos, haz el siguiente análisis:"
   ]
  },
  {
   "cell_type": "markdown",
   "id": "turkish-kidney",
   "metadata": {
    "id": "turkish-kidney"
   },
   "source": [
    "# [A] Fácil (deben completarse todos para aprobar)\n",
    "\n",
    "1. Verifica que los valores en las columnas `'order_hour_of_day'` y `'order_dow'` en la tabla orders sean razonables (es decir, `'order_hour_of_day'` oscile entre 0 y 23 y `'order_dow'` oscile entre 0 y 6).\n",
    "2. Crea un gráfico que muestre el número de personas que hacen pedidos dependiendo de la hora del día.\n",
    "3. Crea un gráfico que muestre qué día de la semana la gente hace sus compras.\n",
    "4. Crea un gráfico que muestre el tiempo que la gente espera hasta hacer su siguiente pedido, y comenta sobre los valores mínimos y máximos."
   ]
  },
  {
   "cell_type": "markdown",
   "id": "short-capability",
   "metadata": {
    "id": "short-capability"
   },
   "source": [
    "### [A1] Verifica que los valores sean sensibles"
   ]
  },
  {
   "cell_type": "code",
   "execution_count": 35,
   "id": "growing-fruit",
   "metadata": {
    "id": "growing-fruit"
   },
   "outputs": [
    {
     "name": "stdout",
     "output_type": "stream",
     "text": [
      "0\n",
      "23\n"
     ]
    }
   ],
   "source": [
    "print(instacart_orders['order_hour_of_day'].min())\n",
    "print(instacart_orders['order_hour_of_day'].max())"
   ]
  },
  {
   "cell_type": "code",
   "execution_count": 36,
   "id": "accessory-malaysia",
   "metadata": {
    "id": "accessory-malaysia"
   },
   "outputs": [
    {
     "name": "stdout",
     "output_type": "stream",
     "text": [
      "0\n",
      "6\n"
     ]
    }
   ],
   "source": [
    "print(instacart_orders['order_dow'].min())\n",
    "print(instacart_orders['order_dow'].max())"
   ]
  },
  {
   "cell_type": "markdown",
   "id": "hmR2GNQ6lCsX",
   "metadata": {
    "id": "hmR2GNQ6lCsX"
   },
   "source": [
    "Escribe aquí tus conclusiones: ambas variables son sensibles y razonables "
   ]
  },
  {
   "cell_type": "markdown",
   "id": "a6743a70",
   "metadata": {
    "id": "a6743a70"
   },
   "source": [
    "### [A2] Para cada hora del día, ¿cuántas personas hacen órdenes?"
   ]
  },
  {
   "cell_type": "code",
   "execution_count": 37,
   "id": "a36cca27",
   "metadata": {
    "id": "a36cca27"
   },
   "outputs": [
    {
     "data": {
      "image/png": "[encoded data removed]",
      "text/plain": [
       "<Figure size 600x600 with 1 Axes>"
      ]
     },
     "metadata": {},
     "output_type": "display_data"
    }
   ],
   "source": [
    "orders_per_hour = instacart_orders.groupby('order_hour_of_day')['order_id'].count()\n",
    "\n",
    "\n",
    "orders_per_hour.plot(kind='bar', figsize=(6, 6), color='skyblue')\n",
    "plt.xlabel('Hora del Día')\n",
    "plt.ylabel('Número de Órdenes')\n",
    "plt.title('Número de Órdenes por Hora del Día')\n",
    "plt.show()"
   ]
  },
  {
   "cell_type": "markdown",
   "id": "11270eed",
   "metadata": {
    "id": "11270eed"
   },
   "source": [
    "Escribe aquí tus conclusiones: podemos ver que las horas en las que más compra la gente estan en un rango de 9am a 4pm"
   ]
  },
  {
   "cell_type": "markdown",
   "id": "documented-command",
   "metadata": {
    "id": "documented-command"
   },
   "source": [
    "### [A3] ¿Qué día de la semana compran víveres las personas?"
   ]
  },
  {
   "cell_type": "code",
   "execution_count": 38,
   "id": "chief-digit",
   "metadata": {
    "id": "chief-digit"
   },
   "outputs": [
    {
     "data": {
      "image/png": "[encoded data removed]",
      "text/plain": [
       "<Figure size 600x600 with 1 Axes>"
      ]
     },
     "metadata": {},
     "output_type": "display_data"
    }
   ],
   "source": [
    "orders_per_day = instacart_orders.groupby('order_dow')['order_id'].count()\n",
    "\n",
    "orders_per_day.plot(kind='bar', figsize=(6, 6), color='green')\n",
    "plt.xlabel('Día de la semana')\n",
    "plt.ylabel('Número de Órdenes')\n",
    "plt.title('Número de Órdenes por día de la semana')\n",
    "plt.show()\n"
   ]
  },
  {
   "cell_type": "markdown",
   "id": "dominant-lightning",
   "metadata": {
    "id": "dominant-lightning"
   },
   "source": [
    "Escribe aquí tus conclusiones: podemos ver que los días domingo y lunes son en los que más compra la gente, y se mantiene parejo en el resto de la semana"
   ]
  },
  {
   "cell_type": "markdown",
   "id": "cutting-concert",
   "metadata": {
    "id": "cutting-concert"
   },
   "source": [
    "### [A4] ¿Cuánto tiempo esperan las personas hasta hacer otro pedido? Comenta sobre los valores mínimos y máximos."
   ]
  },
  {
   "cell_type": "code",
   "execution_count": 39,
   "id": "c231f523",
   "metadata": {
    "id": "c231f523"
   },
   "outputs": [
    {
     "data": {
      "image/png": "[encoded data removed]",
      "text/plain": [
       "<Figure size 600x600 with 1 Axes>"
      ]
     },
     "metadata": {},
     "output_type": "display_data"
    }
   ],
   "source": [
    "days_waited = instacart_orders.groupby('days_since_prior_order')['order_id'].count()\n",
    "\n",
    "days_waited.plot(kind='bar', figsize=(6, 6), color='orange')\n",
    "plt.xlabel('días esperados')\n",
    "plt.ylabel('Número de Órdenes')\n",
    "plt.title('Cuentos días esperan?')\n",
    "plt.show()"
   ]
  },
  {
   "cell_type": "markdown",
   "id": "discrete-vertex",
   "metadata": {
    "id": "discrete-vertex"
   },
   "source": [
    "Escribe aquí tus conclusiones: los clientes esperan entre 0 y 30 días para hacer sus compras, parece que una buena parte hace sus compras cada mes, y también destaca otro grupo que compra cada 7 días o semanalmente "
   ]
  },
  {
   "cell_type": "markdown",
   "id": "tight-staff",
   "metadata": {
    "id": "tight-staff"
   },
   "source": [
    "# [B] Intermedio (deben completarse todos para aprobar)\n",
    "\n",
    "1. ¿Existe alguna diferencia entre las distribuciones `'order_hour_of_day'` de los miércoles y los sábados? Traza gráficos de barra de `'order_hour_of_day'` para ambos días en la misma figura y describe las diferencias que observes.\n",
    "2. Grafica la distribución para el número de órdenes que hacen los clientes (es decir, cuántos clientes hicieron solo 1 pedido, cuántos hicieron 2, cuántos 3, y así sucesivamente...).\n",
    "3. ¿Cuáles son los 20 principales productos que se piden con más frecuencia (muestra su identificación y nombre)?"
   ]
  },
  {
   "cell_type": "markdown",
   "id": "packed-classic",
   "metadata": {
    "id": "packed-classic"
   },
   "source": [
    "### [B1] Diferencia entre miércoles y sábados para  `'order_hour_of_day'`. Traza gráficos de barra para los dos días y describe las diferencias que veas."
   ]
  },
  {
   "cell_type": "code",
   "execution_count": 40,
   "id": "d89b8403",
   "metadata": {
    "id": "d89b8403"
   },
   "outputs": [],
   "source": [
    "wednesday_orders = instacart_orders[instacart_orders['order_dow'] == 3]\n",
    "saturday_orders = instacart_orders[instacart_orders['order_dow'] == 6]"
   ]
  },
  {
   "cell_type": "code",
   "execution_count": 41,
   "id": "94e54e8a",
   "metadata": {
    "id": "94e54e8a"
   },
   "outputs": [],
   "source": [
    "wednesday_counts = wednesday_orders.groupby('order_hour_of_day')['order_id'].count()\n",
    "saturday_counts = saturday_orders.groupby('order_hour_of_day')['order_id'].count()"
   ]
  },
  {
   "cell_type": "code",
   "execution_count": 42,
   "id": "797c90a8",
   "metadata": {
    "id": "797c90a8"
   },
   "outputs": [],
   "source": [
    "df_comparison = pd.DataFrame({\n",
    "    'Miércoles': wednesday_counts,\n",
    "    'Sábado': saturday_counts\n",
    "})"
   ]
  },
  {
   "cell_type": "code",
   "execution_count": 43,
   "id": "35bcea30",
   "metadata": {
    "id": "35bcea30"
   },
   "outputs": [
    {
     "data": {
      "image/png": "[encoded data removed]",
      "text/plain": [
       "<Figure size 800x600 with 1 Axes>"
      ]
     },
     "metadata": {},
     "output_type": "display_data"
    }
   ],
   "source": [
    "df_comparison.plot(kind='bar', figsize=(8, 6), color=['skyblue', 'salmon'])\n",
    "plt.xlabel('Hora del Día')\n",
    "plt.ylabel('Número de Órdenes')\n",
    "plt.title('Distribución de Órdenes por Hora del Día (Miércoles vs Sábado)')\n",
    "plt.legend(title='Día de la Semana')\n",
    "plt.show()"
   ]
  },
  {
   "cell_type": "markdown",
   "id": "charitable-congo",
   "metadata": {
    "id": "charitable-congo"
   },
   "source": [
    "Escribe aquí tus conclusiones: podemos ver que tienen tendencias muy similares, sin embargo podemos destcar que los miércoles de 6 a 10 am se vende más que los sábados a esas horas, de las 11 a las 17 los sábados venden más, destacando más de las 12 a las 14.  "
   ]
  },
  {
   "cell_type": "markdown",
   "id": "e3891143",
   "metadata": {
    "id": "e3891143"
   },
   "source": [
    "### [B2] ¿Cuál es la distribución para el número de pedidos por cliente?"
   ]
  },
  {
   "cell_type": "code",
   "execution_count": 44,
   "id": "d8c26c23",
   "metadata": {
    "id": "d8c26c23"
   },
   "outputs": [],
   "source": [
    "orders_per_user = instacart_orders.groupby('user_id')['order_number'].max()\n",
    "\n",
    "order_counts = orders_per_user.value_counts().sort_index()\n",
    "\n"
   ]
  },
  {
   "cell_type": "code",
   "execution_count": 45,
   "id": "00e69a66",
   "metadata": {
    "id": "00e69a66"
   },
   "outputs": [
    {
     "data": {
      "image/png": "[encoded data removed]",
      "text/plain": [
       "<Figure size 1200x600 with 1 Axes>"
      ]
     },
     "metadata": {},
     "output_type": "display_data"
    }
   ],
   "source": [
    "plt.figure(figsize=(12, 6))\n",
    "order_counts.plot(kind='bar', color='blue')\n",
    "plt.xlabel('Número de Pedidos')\n",
    "plt.ylabel('Número de Clientes')\n",
    "plt.title('Distribución del Número de Pedidos por Cliente')\n",
    "plt.show()"
   ]
  },
  {
   "cell_type": "markdown",
   "id": "d2eff7d5",
   "metadata": {
    "id": "d2eff7d5"
   },
   "source": [
    "Escribe aquí tus conclusiones: podemos ver que la mayoría de clientes hace entre 1 y 10 pedidos y de ahí baja considerablemente pero hay clientes que hacen hasta 100. y una buena porción hacen 4 pedidos. "
   ]
  },
  {
   "cell_type": "markdown",
   "id": "54a0319c",
   "metadata": {
    "id": "54a0319c"
   },
   "source": [
    "### [B3] ¿Cuáles son los 20 productos más populares (muestra su ID y nombre)?"
   ]
  },
  {
   "cell_type": "code",
   "execution_count": 49,
   "id": "exterior-arizona",
   "metadata": {
    "id": "exterior-arizona",
    "scrolled": true
   },
   "outputs": [],
   "source": [
    "orders_with_products = instacart_orders.merge(order_products, on='order_id', how='inner')\n",
    "\n",
    "merged_df = orders_with_products.merge(products, on='product_id', how='inner')\n"
   ]
  },
  {
   "cell_type": "code",
   "execution_count": 51,
   "id": "universal-facial",
   "metadata": {
    "id": "universal-facial"
   },
   "outputs": [],
   "source": [
    "product_counts = merged_df.groupby(['product_id', 'product_name']).size().reset_index(name='count')\n",
    "\n",
    "top_20_products = product_counts.sort_values(by='count', ascending=True).tail(20)"
   ]
  },
  {
   "cell_type": "code",
   "execution_count": 55,
   "id": "bbcdd20b",
   "metadata": {
    "id": "bbcdd20b"
   },
   "outputs": [
    {
     "data": {
      "image/png": "[encoded data removed]",
      "text/plain": [
       "<Figure size 1200x800 with 1 Axes>"
      ]
     },
     "metadata": {},
     "output_type": "display_data"
    }
   ],
   "source": [
    "plt.figure(figsize=(12, 8))\n",
    "plt.barh(top_20_products['product_name'], top_20_products['count'], color='pink')\n",
    "plt.xlabel('Número de Pedidos')\n",
    "plt.ylabel('Producto')\n",
    "plt.title('Top 20 Productos Más Frecuentemente Pedidos')\n",
    "plt.show()\n",
    "\n"
   ]
  },
  {
   "cell_type": "markdown",
   "id": "7df00f47",
   "metadata": {
    "id": "7df00f47"
   },
   "source": [
    "Escribe aquí tus conclusiones: podemos observar que los 20 productos más vendidos son de caracter orgánico como frutas y verduras. Esto también nos ayuda a ver que productos debemos tener en stock y en que cantidad."
   ]
  },
  {
   "cell_type": "markdown",
   "id": "gross-theme",
   "metadata": {
    "id": "gross-theme"
   },
   "source": [
    "# [C] Difícil (deben completarse todos para aprobar)\n",
    "\n",
    "1. ¿Cuántos artículos suelen comprar las personas en un pedido? ¿Cómo es la distribución?\n",
    "2. ¿Cuáles son los 20 principales artículos que vuelven a pedirse con mayor frecuencia (muestra sus nombres e IDs de los productos)?\n",
    "3. Para cada producto, ¿cuál es la tasa de repetición del pedido (número de repeticiones de pedido/total de pedidos?\n",
    "4. Para cada cliente, ¿qué proporción de los productos que pidió ya los había pedido? Calcula la tasa de repetición de pedido para cada usuario en lugar de para cada producto.\n",
    "5. ¿Cuáles son los 20 principales artículos que la gente pone primero en sus carritos (muestra las IDs de los productos, sus nombres, y el número de veces en que fueron el primer artículo en añadirse al carrito)?"
   ]
  },
  {
   "cell_type": "markdown",
   "id": "romantic-deposit",
   "metadata": {
    "id": "romantic-deposit"
   },
   "source": [
    "### [C1] ¿Cuántos artículos compran normalmente las personas en un pedido? ¿Cómo es la distribución?"
   ]
  },
  {
   "cell_type": "code",
   "execution_count": 59,
   "id": "virtual-punch",
   "metadata": {
    "id": "virtual-punch"
   },
   "outputs": [],
   "source": [
    "items_per_order = order_products.groupby('order_id')['product_id'].count()\n",
    "order_counts = items_per_order.value_counts().sort_index()"
   ]
  },
  {
   "cell_type": "code",
   "execution_count": 60,
   "id": "sensitive-breathing",
   "metadata": {
    "id": "sensitive-breathing"
   },
   "outputs": [
    {
     "name": "stdout",
     "output_type": "stream",
     "text": [
      "count    450046.000000\n",
      "mean         10.098983\n",
      "std           7.540206\n",
      "min           1.000000\n",
      "25%           5.000000\n",
      "50%           8.000000\n",
      "75%          14.000000\n",
      "max         127.000000\n",
      "Name: product_id, dtype: float64\n"
     ]
    }
   ],
   "source": [
    "print(items_per_order.describe())"
   ]
  },
  {
   "cell_type": "code",
   "execution_count": 62,
   "id": "completed-frank",
   "metadata": {
    "id": "completed-frank"
   },
   "outputs": [
    {
     "data": {
      "image/png": "[encoded data removed]",
      "text/plain": [
       "<Figure size 1000x600 with 1 Axes>"
      ]
     },
     "metadata": {},
     "output_type": "display_data"
    }
   ],
   "source": [
    "plt.figure(figsize=(10, 6))\n",
    "plt.hist(items_per_order, bins=30, color='skyblue', edgecolor='black')\n",
    "plt.xlabel('Número de Artículos en el Pedido')\n",
    "plt.ylabel('Frecuencia')\n",
    "plt.title('Distribución del Número de Artículos por Pedido')\n",
    "plt.show()\n"
   ]
  },
  {
   "cell_type": "markdown",
   "id": "designed-mortality",
   "metadata": {
    "id": "designed-mortality"
   },
   "source": [
    "Escribe aquí tus conclusiones"
   ]
  },
  {
   "cell_type": "markdown",
   "id": "5e6b5537",
   "metadata": {
    "id": "5e6b5537"
   },
   "source": [
    "### [C2] ¿Cuáles son los 20 principales artículos que vuelven a pedirse con mayor frecuencia (muestra sus nombres e IDs de los productos)?"
   ]
  },
  {
   "cell_type": "code",
   "execution_count": 63,
   "id": "9374e55a",
   "metadata": {
    "id": "9374e55a"
   },
   "outputs": [],
   "source": [
    "reordered_products = order_products[order_products['reordered'] == 1]"
   ]
  },
  {
   "cell_type": "code",
   "execution_count": 64,
   "id": "possible-change",
   "metadata": {
    "id": "possible-change",
    "scrolled": true
   },
   "outputs": [],
   "source": [
    "reordered_counts = reordered_products['product_id'].value_counts().head(20)"
   ]
  },
  {
   "cell_type": "code",
   "execution_count": 66,
   "id": "professional-surfing",
   "metadata": {
    "id": "professional-surfing",
    "scrolled": true
   },
   "outputs": [
    {
     "name": "stdout",
     "output_type": "stream",
     "text": [
      "    product_id              product_name  reorder_count\n",
      "0        24852                    BANANA          55763\n",
      "1        13176    BAG OF ORGANIC BANANAS          44450\n",
      "2        21137      ORGANIC STRAWBERRIES          28639\n",
      "3        21903      ORGANIC BABY SPINACH          26233\n",
      "4        47209      ORGANIC HASS AVOCADO          23629\n",
      "5        47766           ORGANIC AVOCADO          18743\n",
      "6        27845        ORGANIC WHOLE MILK          16251\n",
      "7        47626               LARGE LEMON          15044\n",
      "8        27966       ORGANIC RASPBERRIES          14748\n",
      "9        16797              STRAWBERRIES          13945\n",
      "10       26209                     LIMES          13327\n",
      "11       22935      ORGANIC YELLOW ONION          11145\n",
      "12       24964            ORGANIC GARLIC          10411\n",
      "13       45007          ORGANIC ZUCCHINI          10076\n",
      "14       49683            CUCUMBER KIRBY           9538\n",
      "15       28204        ORGANIC FUJI APPLE           8989\n",
      "16        8277  APPLE HONEYCRISP ORGANIC           8836\n",
      "17       39275       ORGANIC BLUEBERRIES           8799\n",
      "18        5876             ORGANIC LEMON           8412\n",
      "19       49235       ORGANIC HALF & HALF           8389\n"
     ]
    }
   ],
   "source": [
    "top_20_reordered = pd.DataFrame({'product_id': reordered_counts.index, 'reorder_count': reordered_counts.values})\n",
    "top_20_reordered = top_20_reordered.merge(products[['product_id', 'product_name']], on='product_id', how='left')\n",
    "print(top_20_reordered[['product_id', 'product_name', 'reorder_count']])"
   ]
  },
  {
   "cell_type": "code",
   "execution_count": 67,
   "id": "48dd3658",
   "metadata": {
    "id": "48dd3658"
   },
   "outputs": [
    {
     "data": {
      "image/png": "[encoded data removed]",
      "text/plain": [
       "<Figure size 1200x800 with 1 Axes>"
      ]
     },
     "metadata": {},
     "output_type": "display_data"
    }
   ],
   "source": [
    "plt.figure(figsize=(12, 8))\n",
    "plt.barh(top_20_reordered['product_name'], top_20_reordered['reorder_count'], color='green')\n",
    "plt.xlabel('Frecuencia de Reordenamiento')\n",
    "plt.ylabel('Producto')\n",
    "plt.title('Top 20 Productos Más Frecuentemente Reordenados')\n",
    "plt.gca().invert_yaxis()\n",
    "plt.show()"
   ]
  },
  {
   "cell_type": "markdown",
   "id": "80e70c74",
   "metadata": {
    "id": "80e70c74"
   },
   "source": [
    "Escribe aquí tus conclusiones: los productos concuerdan con los más pedidos en general o más populares. "
   ]
  },
  {
   "cell_type": "markdown",
   "id": "9d312b14",
   "metadata": {
    "id": "9d312b14"
   },
   "source": [
    "### [C3] Para cada producto, ¿cuál es la proporción de las veces que se pide y que se vuelve a pedir?"
   ]
  },
  {
   "cell_type": "code",
   "execution_count": 71,
   "id": "8ae9f4b1",
   "metadata": {
    "id": "8ae9f4b1"
   },
   "outputs": [],
   "source": [
    "total_orders_per_product = order_products.groupby('product_id')['product_id'].count()\n",
    "reorders_per_product = order_products[order_products['reordered'] == 1].groupby('product_id')['product_id'].count()\n",
    "reorder_proportion = (reorders_per_product / total_orders_per_product).fillna(0)"
   ]
  },
  {
   "cell_type": "code",
   "execution_count": 72,
   "id": "103e7fe1",
   "metadata": {
    "id": "103e7fe1"
   },
   "outputs": [
    {
     "name": "stdout",
     "output_type": "stream",
     "text": [
      "       product_id                                       product_name  \\\n",
      "13453       14721                            BONE STRENGTH TAKE CARE   \n",
      "19195       20949                           VANILLA SANDWICH COOKIES   \n",
      "6136         6723                                   PALMIERS- PETITE   \n",
      "6144         6732                  NATURALLY SPARKLING MINERAL WATER   \n",
      "41319       45088  CALIFORNIA DILL POLLEN & GARLIC GOAT CHEESE & ...   \n",
      "41310       45078                                       POMEGRANATEA   \n",
      "19258       21016       PARCHMENT LINED 8 IN X 3.75 IN X 2.5 IN PANS   \n",
      "19248       21005                        PEANUT BUTTER PIE ICE CREAM   \n",
      "32273       35192                         CHOCOLATE SOY MILK SINGLES   \n",
      "32277       35197  MOCHA CHOCOLATE CHIP  ORGANIC NON-DAIRY FROZEN...   \n",
      "6211         6810                        RASPBERRY GOJI PALEO PRINTS   \n",
      "41274       45040                                 HEAD LOCK MEGA GEL   \n",
      "41269       45035                               COFFEE FLAVOR YOGURT   \n",
      "25120       27373                                     MEAT LOAF MEAL   \n",
      "28203       30748                           CHEESE & GARLIC CROUTONS   \n",
      "41265       45031                 SUGAR FREE HAZELNUT COFFEE CREAMER   \n",
      "32224       35137  SUPERIOR PREFERENCE FADE-DEFYING COLOR + SHINE...   \n",
      "28202       30747                   DENTOTAPE® UNFLAVORED WAXED TAPE   \n",
      "32304       35228                       MARVELOUS MUFFINS BAKING MIX   \n",
      "32305       35229                             BEAN & CHEESE BURRITOS   \n",
      "\n",
      "       reorder_proportion  \n",
      "13453                 1.0  \n",
      "19195                 1.0  \n",
      "6136                  1.0  \n",
      "6144                  1.0  \n",
      "41319                 1.0  \n",
      "41310                 1.0  \n",
      "19258                 1.0  \n",
      "19248                 1.0  \n",
      "32273                 1.0  \n",
      "32277                 1.0  \n",
      "6211                  1.0  \n",
      "41274                 1.0  \n",
      "41269                 1.0  \n",
      "25120                 1.0  \n",
      "28203                 1.0  \n",
      "41265                 1.0  \n",
      "32224                 1.0  \n",
      "28202                 1.0  \n",
      "32304                 1.0  \n",
      "32305                 1.0  \n"
     ]
    }
   ],
   "source": [
    "reorder_proportion_df = reorder_proportion.reset_index(name='reorder_proportion')\n",
    "reorder_proportion_df = reorder_proportion_df.merge(products[['product_id', 'product_name']], on='product_id', how='left')\n",
    "\n",
    "top_20_reorder_proportion = reorder_proportion_df.sort_values(by='reorder_proportion', ascending=False).head(20)\n",
    "\n",
    "print(top_20_reorder_proportion[['product_id', 'product_name', 'reorder_proportion']])"
   ]
  },
  {
   "cell_type": "code",
   "execution_count": 73,
   "id": "social-individual",
   "metadata": {
    "id": "social-individual"
   },
   "outputs": [
    {
     "data": {
      "image/png": "[encoded data removed]",
      "text/plain": [
       "<Figure size 1200x800 with 1 Axes>"
      ]
     },
     "metadata": {},
     "output_type": "display_data"
    }
   ],
   "source": [
    "plt.figure(figsize=(12, 8))\n",
    "plt.barh(top_20_reorder_proportion['product_name'], top_20_reorder_proportion['reorder_proportion'], color='skyblue')\n",
    "plt.xlabel('Proporción de Reordenamiento')\n",
    "plt.ylabel('Producto')\n",
    "plt.title('Top 20 Productos con Mayor Proporción de Reordenamiento')  \n",
    "plt.show()"
   ]
  },
  {
   "cell_type": "markdown",
   "id": "I10dEIAyldcO",
   "metadata": {
    "id": "I10dEIAyldcO"
   },
   "source": [
    "Escribe aquí tus conclusiones"
   ]
  },
  {
   "cell_type": "markdown",
   "id": "subject-boxing",
   "metadata": {
    "id": "subject-boxing"
   },
   "source": [
    "### [C4] Para cada cliente, ¿qué proporción de sus productos ya los había pedido?"
   ]
  },
  {
   "cell_type": "code",
   "execution_count": 80,
   "id": "medical-couple",
   "metadata": {
    "id": "medical-couple",
    "scrolled": true
   },
   "outputs": [],
   "source": [
    "merged_df = order_products.merge(instacart_orders[['order_id', 'user_id']], on='order_id', how='inner')\n",
    "total_products_per_user = merged_df.groupby('user_id')['product_id'].count()\n",
    "reorders_per_user = merged_df[merged_df['reordered'] == 1].groupby('user_id')['product_id'].count()\n",
    "repeat_order_rate = (reorders_per_user / total_products_per_user).fillna(0)\n",
    "\n",
    "repeat_order_rate_df = repeat_order_rate.reset_index(name='repeat_order_rate')"
   ]
  },
  {
   "cell_type": "code",
   "execution_count": 82,
   "id": "8892e4b4",
   "metadata": {
    "id": "8892e4b4"
   },
   "outputs": [
    {
     "name": "stdout",
     "output_type": "stream",
     "text": [
      "        user_id  repeat_order_rate\n",
      "99672    137587                1.0\n",
      "125732   173474                1.0\n",
      "10138     13918                1.0\n",
      "45067     62300                1.0\n",
      "45074     62307                1.0\n",
      "...         ...                ...\n",
      "138474   190953                0.0\n",
      "86539    119371                0.0\n",
      "45695     63173                0.0\n",
      "45689     63163                0.0\n",
      "120146   165726                0.0\n",
      "\n",
      "[149626 rows x 2 columns]\n"
     ]
    },
    {
     "data": {
      "image/png": "[encoded data removed]",
      "text/plain": [
       "<Figure size 1000x600 with 1 Axes>"
      ]
     },
     "metadata": {},
     "output_type": "display_data"
    }
   ],
   "source": [
    "print(repeat_order_rate_df.sort_values(by='repeat_order_rate', ascending=False))\n",
    "plt.figure(figsize=(10, 6))\n",
    "plt.hist(repeat_order_rate_df['repeat_order_rate'], bins=30, color='skyblue', edgecolor='black')\n",
    "plt.xlabel('Tasa de Repetición de Pedido')\n",
    "plt.ylabel('Número de Clientes')\n",
    "plt.title('Distribución de la Tasa de Repetición de Pedido por Cliente')\n",
    "plt.show()\n"
   ]
  },
  {
   "cell_type": "markdown",
   "id": "BgJSvXDsleXz",
   "metadata": {
    "id": "BgJSvXDsleXz"
   },
   "source": [
    "Escribe aquí tus conclusiones: tenemos practicamente dos grupos, los que no repiten, y los que repiten en una distribución de tasa más amplia. "
   ]
  },
  {
   "cell_type": "markdown",
   "id": "92d35137",
   "metadata": {
    "id": "92d35137"
   },
   "source": [
    "### [C5] ¿Cuáles son los 20 principales artículos que las personas ponen primero en sus carritos?"
   ]
  },
  {
   "cell_type": "code",
   "execution_count": 83,
   "id": "0ae57274",
   "metadata": {
    "id": "0ae57274",
    "scrolled": true
   },
   "outputs": [],
   "source": [
    "first_in_cart = order_products[order_products['add_to_cart_order'] == 1]\n",
    "first_in_cart_counts = first_in_cart['product_id'].value_counts().head(20)"
   ]
  },
  {
   "cell_type": "code",
   "execution_count": 84,
   "id": "forty-netherlands",
   "metadata": {
    "id": "forty-netherlands",
    "scrolled": true
   },
   "outputs": [],
   "source": [
    "top_20_first_in_cart = pd.DataFrame({\n",
    "    'product_id': first_in_cart_counts.index,\n",
    "    'first_in_cart_count': first_in_cart_counts.values\n",
    "})\n",
    "top_20_first_in_cart = top_20_first_in_cart.merge(products[['product_id', 'product_name']], on='product_id', how='left')"
   ]
  },
  {
   "cell_type": "code",
   "execution_count": 87,
   "id": "08e41ec2",
   "metadata": {
    "id": "08e41ec2"
   },
   "outputs": [
    {
     "name": "stdout",
     "output_type": "stream",
     "text": [
      "    product_id                 product_name  first_in_cart_count\n",
      "0        24852                       BANANA                15562\n",
      "1        13176       BAG OF ORGANIC BANANAS                11026\n",
      "2        27845           ORGANIC WHOLE MILK                 4363\n",
      "3        21137         ORGANIC STRAWBERRIES                 3946\n",
      "4        47209         ORGANIC HASS AVOCADO                 3390\n",
      "5        21903         ORGANIC BABY SPINACH                 3336\n",
      "6        47766              ORGANIC AVOCADO                 3044\n",
      "7        19660                 SPRING WATER                 2336\n",
      "8        16797                 STRAWBERRIES                 2308\n",
      "9        27966          ORGANIC RASPBERRIES                 2024\n",
      "10       44632   SPARKLING WATER GRAPEFRUIT                 1914\n",
      "11       49235          ORGANIC HALF & HALF                 1797\n",
      "12       47626                  LARGE LEMON                 1737\n",
      "13         196                         SODA                 1733\n",
      "14       38689     ORGANIC REDUCED FAT MILK                 1397\n",
      "15       26209                        LIMES                 1370\n",
      "16       12341                HASS AVOCADOS                 1340\n",
      "17        5785  ORGANIC REDUCED FAT 2% MILK                 1310\n",
      "18       27086                  HALF & HALF                 1309\n",
      "19       22935         ORGANIC YELLOW ONION                 1246\n"
     ]
    },
    {
     "data": {
      "image/png": "[encoded data removed]",
      "text/plain": [
       "<Figure size 1200x800 with 1 Axes>"
      ]
     },
     "metadata": {},
     "output_type": "display_data"
    }
   ],
   "source": [
    "print(top_20_first_in_cart[['product_id', 'product_name', 'first_in_cart_count']])\n",
    "\n",
    "plt.figure(figsize=(12, 8))\n",
    "plt.barh(top_20_first_in_cart['product_name'], top_20_first_in_cart['first_in_cart_count'], color='red')\n",
    "plt.xlabel('Número de Veces como Primer Artículo en Carrito')\n",
    "plt.ylabel('Producto')\n",
    "plt.title('Top 20 Productos Añadidos Primero en el Carrito')\n",
    "plt.gca().invert_yaxis()  \n",
    "plt.show()\n"
   ]
  },
  {
   "cell_type": "markdown",
   "id": "28ce9872",
   "metadata": {
    "id": "28ce9872"
   },
   "source": [
    "Escribe aquí tus conclusiones: como pudimos comprobar con los demás análisis la banana es el producto estrella y el primero en ser agregado al carrito por muchos clientes, los demás productos cumplen con la tendencia de ser organicos. "
   ]
  },
  {
   "cell_type": "markdown",
   "id": "uITbFCEoDosC",
   "metadata": {
    "id": "uITbFCEoDosC"
   },
   "source": [
    "### Conclusion general del proyecto:"
   ]
  },
  {
   "cell_type": "code",
   "execution_count": null,
   "id": "Nk-4GS7mDwqY",
   "metadata": {
    "id": "Nk-4GS7mDwqY"
   },
   "outputs": [],
   "source": [
    "## Personalmente me pareció muy desafiante pero eEn resumen, este análisis sobre los pedidos de Instacart nos da una idea bastante completa de cómo y cuándo compran los usuarios. Encontramos que los patrones de compra varían entre días de semana y fines de semana, lo cual puede ayudar a planificar inventarios y promociones. También vimos que algunos clientes son bastante frecuentes, mientras que otros hacen pedidos esporádicos; esto es clave para campañas de fidelización. Además, algunos productos se reordenan más que otros, lo cual revela artículos básicos que podrían destacarse en la plataforma. En cuanto a la tasa de repetición por cliente, ayuda a ver quiénes realmente están fieles a ciertos productos y se podría pensar en suscripciones o promociones dirigidas. Por último, los productos añadidos primero en el carrito nos dan pistas sobre qué es esencial para los usuarios y cómo mejorar la experiencia de compra destacando estos productos."
   ]
  }
 ],
 "metadata": {
  "ExecuteTimeLog": [
   {
    "duration": 2244,
    "start_time": "2024-11-03T23:51:25.434Z"
   },
   {
    "duration": 6,
    "start_time": "2024-11-03T23:54:24.059Z"
   },
   {
    "duration": 224,
    "start_time": "2024-11-03T23:54:41.063Z"
   },
   {
    "duration": 4,
    "start_time": "2024-11-03T23:54:56.732Z"
   },
   {
    "duration": 294,
    "start_time": "2024-11-03T23:57:45.829Z"
   },
   {
    "duration": 2,
    "start_time": "2024-11-03T23:57:47.113Z"
   },
   {
    "duration": 5,
    "start_time": "2024-11-04T00:02:53.774Z"
   },
   {
    "duration": 2362,
    "start_time": "2024-11-04T00:04:01.807Z"
   },
   {
    "duration": 5,
    "start_time": "2024-11-04T00:04:05.079Z"
   },
   {
    "duration": 12,
    "start_time": "2024-11-04T00:04:37.055Z"
   },
   {
    "duration": 4,
    "start_time": "2024-11-04T00:05:16.865Z"
   },
   {
    "duration": 4,
    "start_time": "2024-11-04T00:05:33.505Z"
   },
   {
    "duration": 4,
    "start_time": "2024-11-04T00:05:38.346Z"
   },
   {
    "duration": 2,
    "start_time": "2024-11-04T00:05:40.948Z"
   },
   {
    "duration": 2125,
    "start_time": "2024-11-04T00:05:52.703Z"
   },
   {
    "duration": 4,
    "start_time": "2024-11-04T00:05:57.220Z"
   },
   {
    "duration": 15,
    "start_time": "2024-11-04T00:06:22.235Z"
   },
   {
    "duration": 4,
    "start_time": "2024-11-04T00:07:14.902Z"
   },
   {
    "duration": 2254,
    "start_time": "2024-11-04T00:07:27.741Z"
   },
   {
    "duration": 4,
    "start_time": "2024-11-04T00:07:32.458Z"
   },
   {
    "duration": 10,
    "start_time": "2024-11-04T00:08:00.089Z"
   },
   {
    "duration": 5,
    "start_time": "2024-11-04T00:09:03.461Z"
   },
   {
    "duration": 1981,
    "start_time": "2024-11-04T00:09:14.995Z"
   },
   {
    "duration": 4,
    "start_time": "2024-11-04T00:09:20.995Z"
   },
   {
    "duration": 9,
    "start_time": "2024-11-04T00:09:40.740Z"
   },
   {
    "duration": 4,
    "start_time": "2024-11-04T00:10:13.741Z"
   },
   {
    "duration": 881,
    "start_time": "2024-11-04T00:10:25.322Z"
   },
   {
    "duration": 4,
    "start_time": "2024-11-04T00:10:30.417Z"
   },
   {
    "duration": 9,
    "start_time": "2024-11-04T00:11:17.156Z"
   },
   {
    "duration": 24,
    "start_time": "2024-11-04T00:12:03.354Z"
   },
   {
    "duration": 76,
    "start_time": "2024-11-04T00:22:17.681Z"
   },
   {
    "duration": 144,
    "start_time": "2024-11-04T00:23:18.136Z"
   },
   {
    "duration": 14,
    "start_time": "2024-11-04T00:28:30.518Z"
   },
   {
    "duration": 15,
    "start_time": "2024-11-04T00:29:09.593Z"
   },
   {
    "duration": 18,
    "start_time": "2024-11-04T00:30:31.674Z"
   },
   {
    "duration": 18,
    "start_time": "2024-11-04T00:30:48.820Z"
   },
   {
    "duration": 8,
    "start_time": "2024-11-04T00:31:36.949Z"
   },
   {
    "duration": 87,
    "start_time": "2024-11-04T00:36:55.393Z"
   },
   {
    "duration": 86,
    "start_time": "2024-11-04T00:37:39.481Z"
   },
   {
    "duration": 97,
    "start_time": "2024-11-04T00:37:44.306Z"
   },
   {
    "duration": 82,
    "start_time": "2024-11-04T00:37:50.855Z"
   },
   {
    "duration": 77,
    "start_time": "2024-11-04T00:40:31.204Z"
   },
   {
    "duration": 72,
    "start_time": "2024-11-04T00:40:35.198Z"
   },
   {
    "duration": 69,
    "start_time": "2024-11-04T00:40:56.296Z"
   },
   {
    "duration": 24,
    "start_time": "2024-11-04T00:45:49.675Z"
   },
   {
    "duration": 24,
    "start_time": "2024-11-04T00:45:56.974Z"
   },
   {
    "duration": 20,
    "start_time": "2024-11-04T00:47:59.413Z"
   },
   {
    "duration": 461,
    "start_time": "2024-11-04T00:48:10.299Z"
   },
   {
    "duration": 4,
    "start_time": "2024-11-04T00:48:28.099Z"
   },
   {
    "duration": 12,
    "start_time": "2024-11-04T00:51:12.671Z"
   },
   {
    "duration": 16,
    "start_time": "2024-11-04T00:51:24.673Z"
   },
   {
    "duration": 23,
    "start_time": "2024-11-04T00:51:52.108Z"
   },
   {
    "duration": 12,
    "start_time": "2024-11-04T00:53:41.484Z"
   },
   {
    "duration": 5,
    "start_time": "2024-11-04T00:58:59.056Z"
   },
   {
    "duration": 4,
    "start_time": "2024-11-04T01:01:15.578Z"
   },
   {
    "duration": 6,
    "start_time": "2024-11-04T01:03:13.652Z"
   },
   {
    "duration": 3,
    "start_time": "2024-11-04T01:03:13.719Z"
   },
   {
    "duration": 4,
    "start_time": "2024-11-04T01:06:33.002Z"
   },
   {
    "duration": 1505,
    "start_time": "2024-11-04T01:07:38.729Z"
   },
   {
    "duration": 2,
    "start_time": "2024-11-04T01:07:40.236Z"
   },
   {
    "duration": 167,
    "start_time": "2024-11-04T01:08:43.517Z"
   },
   {
    "duration": 250,
    "start_time": "2024-11-04T01:09:24.778Z"
   },
   {
    "duration": 385,
    "start_time": "2024-11-04T01:09:57.423Z"
   },
   {
    "duration": 441,
    "start_time": "2024-11-04T01:10:22.190Z"
   },
   {
    "duration": 19,
    "start_time": "2024-11-04T01:21:27.355Z"
   },
   {
    "duration": 28,
    "start_time": "2024-11-04T01:22:26.299Z"
   },
   {
    "duration": 23,
    "start_time": "2024-11-04T01:24:02.811Z"
   },
   {
    "duration": 7,
    "start_time": "2024-11-04T01:27:19.090Z"
   },
   {
    "duration": 7,
    "start_time": "2024-11-04T01:28:44.920Z"
   },
   {
    "duration": 6,
    "start_time": "2024-11-04T01:35:34.847Z"
   },
   {
    "duration": 5,
    "start_time": "2024-11-04T01:40:44.876Z"
   },
   {
    "duration": 22,
    "start_time": "2024-11-04T01:41:13.518Z"
   },
   {
    "duration": 14,
    "start_time": "2024-11-04T01:53:11.917Z"
   },
   {
    "duration": 12,
    "start_time": "2024-11-04T01:54:48.683Z"
   },
   {
    "duration": 6,
    "start_time": "2024-11-04T01:56:03.651Z"
   },
   {
    "duration": 16,
    "start_time": "2024-11-04T01:56:33.039Z"
   },
   {
    "duration": 13,
    "start_time": "2024-11-04T01:56:51.438Z"
   },
   {
    "duration": 8,
    "start_time": "2024-11-04T01:58:38.735Z"
   },
   {
    "duration": 33,
    "start_time": "2024-11-04T02:02:34.842Z"
   },
   {
    "duration": 12,
    "start_time": "2024-11-04T02:03:56.409Z"
   },
   {
    "duration": 15,
    "start_time": "2024-11-04T02:04:08.200Z"
   },
   {
    "duration": 24,
    "start_time": "2024-11-04T02:05:15.095Z"
   },
   {
    "duration": 24,
    "start_time": "2024-11-04T02:05:40.014Z"
   },
   {
    "duration": 7,
    "start_time": "2024-11-04T02:12:35.988Z"
   },
   {
    "duration": 2,
    "start_time": "2024-11-04T02:12:36.050Z"
   },
   {
    "duration": 9,
    "start_time": "2024-11-04T02:13:52.447Z"
   },
   {
    "duration": 13,
    "start_time": "2024-11-04T02:15:36.561Z"
   },
   {
    "duration": 12,
    "start_time": "2024-11-04T02:15:47.038Z"
   },
   {
    "duration": 3,
    "start_time": "2024-11-04T02:15:58.545Z"
   },
   {
    "duration": 86,
    "start_time": "2024-11-04T02:16:52.138Z"
   },
   {
    "duration": 17,
    "start_time": "2024-11-04T02:17:25.696Z"
   },
   {
    "duration": 16,
    "start_time": "2024-11-04T02:18:41.973Z"
   },
   {
    "duration": 17,
    "start_time": "2024-11-04T02:19:52.716Z"
   },
   {
    "duration": 17,
    "start_time": "2024-11-04T02:22:13.116Z"
   },
   {
    "duration": 19,
    "start_time": "2024-11-04T02:22:37.682Z"
   },
   {
    "duration": 432,
    "start_time": "2024-11-04T02:27:19.186Z"
   },
   {
    "duration": 950,
    "start_time": "2024-11-04T02:27:19.622Z"
   },
   {
    "duration": 15,
    "start_time": "2024-11-04T02:27:20.573Z"
   },
   {
    "duration": 12,
    "start_time": "2024-11-04T02:27:20.589Z"
   },
   {
    "duration": 9,
    "start_time": "2024-11-04T02:27:20.603Z"
   },
   {
    "duration": 9,
    "start_time": "2024-11-04T02:27:20.631Z"
   },
   {
    "duration": 26,
    "start_time": "2024-11-04T02:27:20.642Z"
   },
   {
    "duration": 192,
    "start_time": "2024-11-04T02:27:20.670Z"
   },
   {
    "duration": 8,
    "start_time": "2024-11-04T02:27:20.863Z"
   },
   {
    "duration": 103,
    "start_time": "2024-11-04T02:27:20.873Z"
   },
   {
    "duration": 90,
    "start_time": "2024-11-04T02:27:20.979Z"
   },
   {
    "duration": 30,
    "start_time": "2024-11-04T02:27:21.071Z"
   },
   {
    "duration": 37,
    "start_time": "2024-11-04T02:27:21.103Z"
   },
   {
    "duration": 3,
    "start_time": "2024-11-04T02:27:21.144Z"
   },
   {
    "duration": 23,
    "start_time": "2024-11-04T02:27:21.149Z"
   },
   {
    "duration": 11,
    "start_time": "2024-11-04T02:27:21.173Z"
   },
   {
    "duration": 4,
    "start_time": "2024-11-04T02:27:21.187Z"
   },
   {
    "duration": 4,
    "start_time": "2024-11-04T02:27:21.192Z"
   },
   {
    "duration": 37,
    "start_time": "2024-11-04T02:27:21.197Z"
   },
   {
    "duration": 4,
    "start_time": "2024-11-04T02:27:21.235Z"
   },
   {
    "duration": 1622,
    "start_time": "2024-11-04T02:27:21.241Z"
   },
   {
    "duration": 508,
    "start_time": "2024-11-04T02:27:22.865Z"
   },
   {
    "duration": 22,
    "start_time": "2024-11-04T02:27:23.375Z"
   },
   {
    "duration": 6,
    "start_time": "2024-11-04T02:27:23.398Z"
   },
   {
    "duration": 26,
    "start_time": "2024-11-04T02:27:23.405Z"
   },
   {
    "duration": 6,
    "start_time": "2024-11-04T02:27:23.433Z"
   },
   {
    "duration": 21,
    "start_time": "2024-11-04T02:27:23.441Z"
   },
   {
    "duration": 14,
    "start_time": "2024-11-04T02:27:23.465Z"
   },
   {
    "duration": 8,
    "start_time": "2024-11-04T02:27:23.481Z"
   },
   {
    "duration": 64,
    "start_time": "2024-11-04T02:27:23.491Z"
   },
   {
    "duration": 38,
    "start_time": "2024-11-04T02:27:23.557Z"
   },
   {
    "duration": 9,
    "start_time": "2024-11-04T02:27:23.596Z"
   },
   {
    "duration": 24,
    "start_time": "2024-11-04T02:27:23.607Z"
   },
   {
    "duration": 2,
    "start_time": "2024-11-04T02:27:23.633Z"
   },
   {
    "duration": 4,
    "start_time": "2024-11-04T02:28:15.460Z"
   },
   {
    "duration": 4,
    "start_time": "2024-11-04T02:29:37.033Z"
   },
   {
    "duration": 5,
    "start_time": "2024-11-04T02:30:05.030Z"
   },
   {
    "duration": 31,
    "start_time": "2024-11-04T02:34:11.277Z"
   },
   {
    "duration": 194,
    "start_time": "2024-11-04T02:34:32.652Z"
   },
   {
    "duration": 146,
    "start_time": "2024-11-04T02:34:40.986Z"
   },
   {
    "duration": 39,
    "start_time": "2024-11-04T02:35:09.051Z"
   },
   {
    "duration": 55,
    "start_time": "2024-11-04T02:36:22.701Z"
   },
   {
    "duration": 51,
    "start_time": "2024-11-04T02:36:42.463Z"
   },
   {
    "duration": 83,
    "start_time": "2024-11-04T02:37:27.646Z"
   },
   {
    "duration": 3,
    "start_time": "2024-11-04T03:06:33.438Z"
   },
   {
    "duration": 3,
    "start_time": "2024-11-04T03:07:20.467Z"
   },
   {
    "duration": 4,
    "start_time": "2024-11-04T03:07:41.777Z"
   },
   {
    "duration": 4,
    "start_time": "2024-11-04T03:08:40.926Z"
   },
   {
    "duration": 438,
    "start_time": "2024-11-04T03:15:26.285Z"
   },
   {
    "duration": 930,
    "start_time": "2024-11-04T03:15:26.725Z"
   },
   {
    "duration": 25,
    "start_time": "2024-11-04T03:15:27.657Z"
   },
   {
    "duration": 13,
    "start_time": "2024-11-04T03:15:27.685Z"
   },
   {
    "duration": 10,
    "start_time": "2024-11-04T03:15:27.700Z"
   },
   {
    "duration": 26,
    "start_time": "2024-11-04T03:15:27.712Z"
   },
   {
    "duration": 26,
    "start_time": "2024-11-04T03:15:27.740Z"
   },
   {
    "duration": 201,
    "start_time": "2024-11-04T03:15:27.768Z"
   },
   {
    "duration": 9,
    "start_time": "2024-11-04T03:15:27.970Z"
   },
   {
    "duration": 108,
    "start_time": "2024-11-04T03:15:27.983Z"
   },
   {
    "duration": 94,
    "start_time": "2024-11-04T03:15:28.093Z"
   },
   {
    "duration": 28,
    "start_time": "2024-11-04T03:15:28.190Z"
   },
   {
    "duration": 21,
    "start_time": "2024-11-04T03:15:28.231Z"
   },
   {
    "duration": 4,
    "start_time": "2024-11-04T03:15:28.254Z"
   },
   {
    "duration": 24,
    "start_time": "2024-11-04T03:15:28.259Z"
   },
   {
    "duration": 10,
    "start_time": "2024-11-04T03:15:28.285Z"
   },
   {
    "duration": 37,
    "start_time": "2024-11-04T03:15:28.296Z"
   },
   {
    "duration": 4,
    "start_time": "2024-11-04T03:15:28.337Z"
   },
   {
    "duration": 6,
    "start_time": "2024-11-04T03:15:28.343Z"
   },
   {
    "duration": 3,
    "start_time": "2024-11-04T03:15:28.351Z"
   },
   {
    "duration": 1599,
    "start_time": "2024-11-04T03:15:28.356Z"
   },
   {
    "duration": 502,
    "start_time": "2024-11-04T03:15:29.957Z"
   },
   {
    "duration": 24,
    "start_time": "2024-11-04T03:15:30.460Z"
   },
   {
    "duration": 6,
    "start_time": "2024-11-04T03:15:30.486Z"
   },
   {
    "duration": 7,
    "start_time": "2024-11-04T03:15:30.494Z"
   },
   {
    "duration": 28,
    "start_time": "2024-11-04T03:15:30.503Z"
   },
   {
    "duration": 22,
    "start_time": "2024-11-04T03:15:30.533Z"
   },
   {
    "duration": 13,
    "start_time": "2024-11-04T03:15:30.559Z"
   },
   {
    "duration": 9,
    "start_time": "2024-11-04T03:15:30.573Z"
   },
   {
    "duration": 65,
    "start_time": "2024-11-04T03:15:30.584Z"
   },
   {
    "duration": 25,
    "start_time": "2024-11-04T03:15:30.651Z"
   },
   {
    "duration": 9,
    "start_time": "2024-11-04T03:15:30.677Z"
   },
   {
    "duration": 5,
    "start_time": "2024-11-04T03:15:30.688Z"
   },
   {
    "duration": 147,
    "start_time": "2024-11-04T03:15:30.697Z"
   },
   {
    "duration": 4,
    "start_time": "2024-11-04T03:15:30.846Z"
   },
   {
    "duration": 4,
    "start_time": "2024-11-04T03:15:30.852Z"
   },
   {
    "duration": 429,
    "start_time": "2024-11-04T03:18:31.808Z"
   },
   {
    "duration": 1070,
    "start_time": "2024-11-04T03:18:32.240Z"
   },
   {
    "duration": 19,
    "start_time": "2024-11-04T03:18:33.312Z"
   },
   {
    "duration": 10,
    "start_time": "2024-11-04T03:18:33.334Z"
   },
   {
    "duration": 9,
    "start_time": "2024-11-04T03:18:33.345Z"
   },
   {
    "duration": 9,
    "start_time": "2024-11-04T03:18:33.356Z"
   },
   {
    "duration": 27,
    "start_time": "2024-11-04T03:18:33.367Z"
   },
   {
    "duration": 211,
    "start_time": "2024-11-04T03:18:33.396Z"
   },
   {
    "duration": 8,
    "start_time": "2024-11-04T03:18:33.609Z"
   },
   {
    "duration": 101,
    "start_time": "2024-11-04T03:18:33.630Z"
   },
   {
    "duration": 97,
    "start_time": "2024-11-04T03:18:33.733Z"
   },
   {
    "duration": 29,
    "start_time": "2024-11-04T03:18:33.832Z"
   },
   {
    "duration": 19,
    "start_time": "2024-11-04T03:18:33.863Z"
   },
   {
    "duration": 4,
    "start_time": "2024-11-04T03:18:33.884Z"
   },
   {
    "duration": 46,
    "start_time": "2024-11-04T03:18:33.889Z"
   },
   {
    "duration": 10,
    "start_time": "2024-11-04T03:18:33.937Z"
   },
   {
    "duration": 4,
    "start_time": "2024-11-04T03:18:33.949Z"
   },
   {
    "duration": 4,
    "start_time": "2024-11-04T03:18:33.955Z"
   },
   {
    "duration": 5,
    "start_time": "2024-11-04T03:18:33.960Z"
   },
   {
    "duration": 4,
    "start_time": "2024-11-04T03:18:33.966Z"
   },
   {
    "duration": 1619,
    "start_time": "2024-11-04T03:18:33.972Z"
   },
   {
    "duration": 500,
    "start_time": "2024-11-04T03:18:35.592Z"
   },
   {
    "duration": 36,
    "start_time": "2024-11-04T03:18:36.094Z"
   },
   {
    "duration": 8,
    "start_time": "2024-11-04T03:18:36.132Z"
   },
   {
    "duration": 6,
    "start_time": "2024-11-04T03:18:36.142Z"
   },
   {
    "duration": 5,
    "start_time": "2024-11-04T03:18:36.149Z"
   },
   {
    "duration": 20,
    "start_time": "2024-11-04T03:18:36.156Z"
   },
   {
    "duration": 13,
    "start_time": "2024-11-04T03:18:36.180Z"
   },
   {
    "duration": 41,
    "start_time": "2024-11-04T03:18:36.195Z"
   },
   {
    "duration": 31,
    "start_time": "2024-11-04T03:18:36.238Z"
   },
   {
    "duration": 28,
    "start_time": "2024-11-04T03:18:36.272Z"
   },
   {
    "duration": 30,
    "start_time": "2024-11-04T03:18:36.301Z"
   },
   {
    "duration": 5,
    "start_time": "2024-11-04T03:18:36.333Z"
   },
   {
    "duration": 132,
    "start_time": "2024-11-04T03:18:36.340Z"
   },
   {
    "duration": 3,
    "start_time": "2024-11-04T03:18:36.475Z"
   },
   {
    "duration": 4,
    "start_time": "2024-11-04T03:18:36.480Z"
   },
   {
    "duration": 2359,
    "start_time": "2024-11-04T03:18:36.487Z"
   },
   {
    "duration": 5,
    "start_time": "2024-11-04T03:19:39.191Z"
   },
   {
    "duration": 4,
    "start_time": "2024-11-04T03:19:50.436Z"
   },
   {
    "duration": 1692,
    "start_time": "2024-11-04T03:21:51.466Z"
   },
   {
    "duration": 1449,
    "start_time": "2024-11-04T03:21:54.127Z"
   },
   {
    "duration": 4678,
    "start_time": "2024-11-04T03:22:36.510Z"
   },
   {
    "duration": 1676,
    "start_time": "2024-11-04T03:23:09.255Z"
   },
   {
    "duration": 185,
    "start_time": "2024-11-04T03:24:17.638Z"
   },
   {
    "duration": 474,
    "start_time": "2024-11-04T03:25:47.647Z"
   },
   {
    "duration": 939,
    "start_time": "2024-11-04T03:25:48.123Z"
   },
   {
    "duration": 15,
    "start_time": "2024-11-04T03:25:49.063Z"
   },
   {
    "duration": 10,
    "start_time": "2024-11-04T03:25:49.080Z"
   },
   {
    "duration": 8,
    "start_time": "2024-11-04T03:25:49.093Z"
   },
   {
    "duration": 32,
    "start_time": "2024-11-04T03:25:49.103Z"
   },
   {
    "duration": 24,
    "start_time": "2024-11-04T03:25:49.137Z"
   },
   {
    "duration": 192,
    "start_time": "2024-11-04T03:25:49.163Z"
   },
   {
    "duration": 8,
    "start_time": "2024-11-04T03:25:49.357Z"
   },
   {
    "duration": 107,
    "start_time": "2024-11-04T03:25:49.367Z"
   },
   {
    "duration": 92,
    "start_time": "2024-11-04T03:25:49.476Z"
   },
   {
    "duration": 31,
    "start_time": "2024-11-04T03:25:49.570Z"
   },
   {
    "duration": 37,
    "start_time": "2024-11-04T03:25:49.603Z"
   },
   {
    "duration": 4,
    "start_time": "2024-11-04T03:25:49.643Z"
   },
   {
    "duration": 22,
    "start_time": "2024-11-04T03:25:49.648Z"
   },
   {
    "duration": 10,
    "start_time": "2024-11-04T03:25:49.671Z"
   },
   {
    "duration": 4,
    "start_time": "2024-11-04T03:25:49.683Z"
   },
   {
    "duration": 3,
    "start_time": "2024-11-04T03:25:49.689Z"
   },
   {
    "duration": 40,
    "start_time": "2024-11-04T03:25:49.694Z"
   },
   {
    "duration": 5,
    "start_time": "2024-11-04T03:25:49.735Z"
   },
   {
    "duration": 1677,
    "start_time": "2024-11-04T03:25:49.741Z"
   },
   {
    "duration": 502,
    "start_time": "2024-11-04T03:25:51.420Z"
   },
   {
    "duration": 25,
    "start_time": "2024-11-04T03:25:51.924Z"
   },
   {
    "duration": 8,
    "start_time": "2024-11-04T03:25:51.950Z"
   },
   {
    "duration": 7,
    "start_time": "2024-11-04T03:25:51.959Z"
   },
   {
    "duration": 5,
    "start_time": "2024-11-04T03:25:51.969Z"
   },
   {
    "duration": 20,
    "start_time": "2024-11-04T03:25:51.976Z"
   },
   {
    "duration": 47,
    "start_time": "2024-11-04T03:25:51.998Z"
   },
   {
    "duration": 8,
    "start_time": "2024-11-04T03:25:52.047Z"
   },
   {
    "duration": 37,
    "start_time": "2024-11-04T03:25:52.056Z"
   },
   {
    "duration": 56,
    "start_time": "2024-11-04T03:25:52.095Z"
   },
   {
    "duration": 9,
    "start_time": "2024-11-04T03:25:52.153Z"
   },
   {
    "duration": 5,
    "start_time": "2024-11-04T03:25:52.164Z"
   },
   {
    "duration": 139,
    "start_time": "2024-11-04T03:25:52.171Z"
   },
   {
    "duration": 3,
    "start_time": "2024-11-04T03:25:52.312Z"
   },
   {
    "duration": 13,
    "start_time": "2024-11-04T03:25:52.318Z"
   },
   {
    "duration": 463,
    "start_time": "2024-11-04T03:27:49.945Z"
   },
   {
    "duration": 921,
    "start_time": "2024-11-04T03:27:50.411Z"
   },
   {
    "duration": 14,
    "start_time": "2024-11-04T03:27:51.334Z"
   },
   {
    "duration": 10,
    "start_time": "2024-11-04T03:27:51.350Z"
   },
   {
    "duration": 8,
    "start_time": "2024-11-04T03:27:51.362Z"
   },
   {
    "duration": 9,
    "start_time": "2024-11-04T03:27:51.372Z"
   },
   {
    "duration": 58,
    "start_time": "2024-11-04T03:27:51.383Z"
   },
   {
    "duration": 179,
    "start_time": "2024-11-04T03:27:51.443Z"
   },
   {
    "duration": 13,
    "start_time": "2024-11-04T03:27:51.624Z"
   },
   {
    "duration": 102,
    "start_time": "2024-11-04T03:27:51.639Z"
   },
   {
    "duration": 97,
    "start_time": "2024-11-04T03:27:51.743Z"
   },
   {
    "duration": 30,
    "start_time": "2024-11-04T03:27:51.842Z"
   },
   {
    "duration": 19,
    "start_time": "2024-11-04T03:27:51.874Z"
   },
   {
    "duration": 4,
    "start_time": "2024-11-04T03:27:51.896Z"
   },
   {
    "duration": 44,
    "start_time": "2024-11-04T03:27:51.903Z"
   },
   {
    "duration": 17,
    "start_time": "2024-11-04T03:27:51.949Z"
   },
   {
    "duration": 4,
    "start_time": "2024-11-04T03:27:51.968Z"
   },
   {
    "duration": 4,
    "start_time": "2024-11-04T03:27:51.974Z"
   },
   {
    "duration": 5,
    "start_time": "2024-11-04T03:27:51.980Z"
   },
   {
    "duration": 5,
    "start_time": "2024-11-04T03:27:51.986Z"
   },
   {
    "duration": 1648,
    "start_time": "2024-11-04T03:27:51.993Z"
   },
   {
    "duration": 504,
    "start_time": "2024-11-04T03:27:53.643Z"
   },
   {
    "duration": 28,
    "start_time": "2024-11-04T03:27:54.149Z"
   },
   {
    "duration": 7,
    "start_time": "2024-11-04T03:27:54.179Z"
   },
   {
    "duration": 6,
    "start_time": "2024-11-04T03:27:54.188Z"
   },
   {
    "duration": 5,
    "start_time": "2024-11-04T03:27:54.196Z"
   },
   {
    "duration": 48,
    "start_time": "2024-11-04T03:27:54.203Z"
   },
   {
    "duration": 12,
    "start_time": "2024-11-04T03:27:54.253Z"
   },
   {
    "duration": 9,
    "start_time": "2024-11-04T03:27:54.267Z"
   },
   {
    "duration": 62,
    "start_time": "2024-11-04T03:27:54.277Z"
   },
   {
    "duration": 25,
    "start_time": "2024-11-04T03:27:54.341Z"
   },
   {
    "duration": 10,
    "start_time": "2024-11-04T03:27:54.367Z"
   },
   {
    "duration": 9,
    "start_time": "2024-11-04T03:27:54.379Z"
   },
   {
    "duration": 167,
    "start_time": "2024-11-04T03:27:54.390Z"
   },
   {
    "duration": 4,
    "start_time": "2024-11-04T03:27:54.559Z"
   },
   {
    "duration": 3,
    "start_time": "2024-11-04T03:27:54.566Z"
   },
   {
    "duration": 566,
    "start_time": "2024-11-04T03:27:54.572Z"
   },
   {
    "duration": 15,
    "start_time": "2024-11-04T03:29:48.240Z"
   },
   {
    "duration": 3,
    "start_time": "2024-11-04T03:30:08.086Z"
   },
   {
    "duration": 421,
    "start_time": "2024-11-04T03:34:19.905Z"
   },
   {
    "duration": 922,
    "start_time": "2024-11-04T03:34:20.328Z"
   },
   {
    "duration": 14,
    "start_time": "2024-11-04T03:34:21.251Z"
   },
   {
    "duration": 11,
    "start_time": "2024-11-04T03:34:21.268Z"
   },
   {
    "duration": 9,
    "start_time": "2024-11-04T03:34:21.282Z"
   },
   {
    "duration": 10,
    "start_time": "2024-11-04T03:34:21.293Z"
   },
   {
    "duration": 25,
    "start_time": "2024-11-04T03:34:21.332Z"
   },
   {
    "duration": 190,
    "start_time": "2024-11-04T03:34:21.359Z"
   },
   {
    "duration": 8,
    "start_time": "2024-11-04T03:34:21.551Z"
   },
   {
    "duration": 101,
    "start_time": "2024-11-04T03:34:21.561Z"
   },
   {
    "duration": 95,
    "start_time": "2024-11-04T03:34:21.664Z"
   },
   {
    "duration": 35,
    "start_time": "2024-11-04T03:34:21.762Z"
   },
   {
    "duration": 37,
    "start_time": "2024-11-04T03:34:21.799Z"
   },
   {
    "duration": 4,
    "start_time": "2024-11-04T03:34:21.841Z"
   },
   {
    "duration": 23,
    "start_time": "2024-11-04T03:34:21.846Z"
   },
   {
    "duration": 9,
    "start_time": "2024-11-04T03:34:21.871Z"
   },
   {
    "duration": 5,
    "start_time": "2024-11-04T03:34:21.881Z"
   },
   {
    "duration": 3,
    "start_time": "2024-11-04T03:34:21.888Z"
   },
   {
    "duration": 4,
    "start_time": "2024-11-04T03:34:21.893Z"
   },
   {
    "duration": 33,
    "start_time": "2024-11-04T03:34:21.899Z"
   },
   {
    "duration": 1608,
    "start_time": "2024-11-04T03:34:21.934Z"
   },
   {
    "duration": 520,
    "start_time": "2024-11-04T03:34:23.543Z"
   },
   {
    "duration": 22,
    "start_time": "2024-11-04T03:34:24.065Z"
   },
   {
    "duration": 5,
    "start_time": "2024-11-04T03:34:24.089Z"
   },
   {
    "duration": 6,
    "start_time": "2024-11-04T03:34:24.096Z"
   },
   {
    "duration": 31,
    "start_time": "2024-11-04T03:34:24.105Z"
   },
   {
    "duration": 20,
    "start_time": "2024-11-04T03:34:24.138Z"
   },
   {
    "duration": 13,
    "start_time": "2024-11-04T03:34:24.160Z"
   },
   {
    "duration": 11,
    "start_time": "2024-11-04T03:34:24.175Z"
   },
   {
    "duration": 63,
    "start_time": "2024-11-04T03:34:24.189Z"
   },
   {
    "duration": 24,
    "start_time": "2024-11-04T03:34:24.254Z"
   },
   {
    "duration": 10,
    "start_time": "2024-11-04T03:34:24.280Z"
   },
   {
    "duration": 5,
    "start_time": "2024-11-04T03:34:24.291Z"
   },
   {
    "duration": 151,
    "start_time": "2024-11-04T03:34:24.298Z"
   },
   {
    "duration": 4,
    "start_time": "2024-11-04T03:34:24.451Z"
   },
   {
    "duration": 3,
    "start_time": "2024-11-04T03:34:24.457Z"
   },
   {
    "duration": 166,
    "start_time": "2024-11-04T03:37:34.913Z"
   },
   {
    "duration": 161,
    "start_time": "2024-11-04T03:38:01.436Z"
   },
   {
    "duration": 14,
    "start_time": "2024-11-04T03:40:20.864Z"
   },
   {
    "duration": 446,
    "start_time": "2024-11-04T03:40:39.862Z"
   },
   {
    "duration": 937,
    "start_time": "2024-11-04T03:40:40.311Z"
   },
   {
    "duration": 14,
    "start_time": "2024-11-04T03:40:41.249Z"
   },
   {
    "duration": 10,
    "start_time": "2024-11-04T03:40:41.266Z"
   },
   {
    "duration": 9,
    "start_time": "2024-11-04T03:40:41.278Z"
   },
   {
    "duration": 9,
    "start_time": "2024-11-04T03:40:41.289Z"
   },
   {
    "duration": 55,
    "start_time": "2024-11-04T03:40:41.300Z"
   },
   {
    "duration": 200,
    "start_time": "2024-11-04T03:40:41.357Z"
   },
   {
    "duration": 8,
    "start_time": "2024-11-04T03:40:41.560Z"
   },
   {
    "duration": 110,
    "start_time": "2024-11-04T03:40:41.571Z"
   },
   {
    "duration": 100,
    "start_time": "2024-11-04T03:40:41.682Z"
   },
   {
    "duration": 31,
    "start_time": "2024-11-04T03:40:41.784Z"
   },
   {
    "duration": 32,
    "start_time": "2024-11-04T03:40:41.817Z"
   },
   {
    "duration": 4,
    "start_time": "2024-11-04T03:40:41.851Z"
   },
   {
    "duration": 24,
    "start_time": "2024-11-04T03:40:41.857Z"
   },
   {
    "duration": 11,
    "start_time": "2024-11-04T03:40:41.883Z"
   },
   {
    "duration": 5,
    "start_time": "2024-11-04T03:40:41.896Z"
   },
   {
    "duration": 5,
    "start_time": "2024-11-04T03:40:41.932Z"
   },
   {
    "duration": 7,
    "start_time": "2024-11-04T03:40:41.939Z"
   },
   {
    "duration": 4,
    "start_time": "2024-11-04T03:40:41.949Z"
   },
   {
    "duration": 1598,
    "start_time": "2024-11-04T03:40:41.959Z"
   },
   {
    "duration": 516,
    "start_time": "2024-11-04T03:40:43.559Z"
   },
   {
    "duration": 25,
    "start_time": "2024-11-04T03:40:44.078Z"
   },
   {
    "duration": 6,
    "start_time": "2024-11-04T03:40:44.105Z"
   },
   {
    "duration": 24,
    "start_time": "2024-11-04T03:40:44.113Z"
   },
   {
    "duration": 6,
    "start_time": "2024-11-04T03:40:44.139Z"
   },
   {
    "duration": 19,
    "start_time": "2024-11-04T03:40:44.147Z"
   },
   {
    "duration": 14,
    "start_time": "2024-11-04T03:40:44.170Z"
   },
   {
    "duration": 9,
    "start_time": "2024-11-04T03:40:44.185Z"
   },
   {
    "duration": 64,
    "start_time": "2024-11-04T03:40:44.196Z"
   },
   {
    "duration": 36,
    "start_time": "2024-11-04T03:40:44.262Z"
   },
   {
    "duration": 9,
    "start_time": "2024-11-04T03:40:44.300Z"
   },
   {
    "duration": 5,
    "start_time": "2024-11-04T03:40:44.331Z"
   },
   {
    "duration": 133,
    "start_time": "2024-11-04T03:40:44.338Z"
   },
   {
    "duration": 4,
    "start_time": "2024-11-04T03:40:44.473Z"
   },
   {
    "duration": 5,
    "start_time": "2024-11-04T03:40:44.479Z"
   },
   {
    "duration": 227,
    "start_time": "2024-11-04T03:40:44.485Z"
   },
   {
    "duration": 181,
    "start_time": "2024-11-04T03:41:28.380Z"
   },
   {
    "duration": 123,
    "start_time": "2024-11-04T03:45:56.840Z"
   },
   {
    "duration": 206,
    "start_time": "2024-11-04T03:51:17.444Z"
   },
   {
    "duration": 10,
    "start_time": "2024-11-04T03:59:48.576Z"
   },
   {
    "duration": 5,
    "start_time": "2024-11-04T04:00:11.824Z"
   },
   {
    "duration": 3,
    "start_time": "2024-11-04T04:00:59.731Z"
   },
   {
    "duration": 246,
    "start_time": "2024-11-04T04:01:02.446Z"
   },
   {
    "duration": 234,
    "start_time": "2024-11-04T04:01:18.335Z"
   },
   {
    "duration": 45,
    "start_time": "2024-11-04T04:07:33.763Z"
   },
   {
    "duration": 577,
    "start_time": "2024-11-04T04:08:04.546Z"
   },
   {
    "duration": 968,
    "start_time": "2024-11-04T04:08:18.817Z"
   },
   {
    "duration": 366,
    "start_time": "2024-11-04T04:17:36.470Z"
   },
   {
    "duration": 41,
    "start_time": "2024-11-04T04:19:33.412Z"
   },
   {
    "duration": 432,
    "start_time": "2024-11-04T04:19:38.112Z"
   },
   {
    "duration": 929,
    "start_time": "2024-11-04T04:19:38.546Z"
   },
   {
    "duration": 16,
    "start_time": "2024-11-04T04:19:39.477Z"
   },
   {
    "duration": 11,
    "start_time": "2024-11-04T04:19:39.494Z"
   },
   {
    "duration": 27,
    "start_time": "2024-11-04T04:19:39.508Z"
   },
   {
    "duration": 9,
    "start_time": "2024-11-04T04:19:39.537Z"
   },
   {
    "duration": 26,
    "start_time": "2024-11-04T04:19:39.548Z"
   },
   {
    "duration": 200,
    "start_time": "2024-11-04T04:19:39.576Z"
   },
   {
    "duration": 9,
    "start_time": "2024-11-04T04:19:39.778Z"
   },
   {
    "duration": 108,
    "start_time": "2024-11-04T04:19:39.789Z"
   },
   {
    "duration": 94,
    "start_time": "2024-11-04T04:19:39.899Z"
   },
   {
    "duration": 27,
    "start_time": "2024-11-04T04:19:39.995Z"
   },
   {
    "duration": 24,
    "start_time": "2024-11-04T04:19:40.024Z"
   },
   {
    "duration": 4,
    "start_time": "2024-11-04T04:19:40.052Z"
   },
   {
    "duration": 22,
    "start_time": "2024-11-04T04:19:40.058Z"
   },
   {
    "duration": 11,
    "start_time": "2024-11-04T04:19:40.081Z"
   },
   {
    "duration": 6,
    "start_time": "2024-11-04T04:19:40.093Z"
   },
   {
    "duration": 5,
    "start_time": "2024-11-04T04:19:40.132Z"
   },
   {
    "duration": 6,
    "start_time": "2024-11-04T04:19:40.139Z"
   },
   {
    "duration": 4,
    "start_time": "2024-11-04T04:19:40.146Z"
   },
   {
    "duration": 1609,
    "start_time": "2024-11-04T04:19:40.152Z"
   },
   {
    "duration": 540,
    "start_time": "2024-11-04T04:19:41.763Z"
   },
   {
    "duration": 34,
    "start_time": "2024-11-04T04:19:42.305Z"
   },
   {
    "duration": 6,
    "start_time": "2024-11-04T04:19:42.341Z"
   },
   {
    "duration": 7,
    "start_time": "2024-11-04T04:19:42.349Z"
   },
   {
    "duration": 6,
    "start_time": "2024-11-04T04:19:42.357Z"
   },
   {
    "duration": 23,
    "start_time": "2024-11-04T04:19:42.365Z"
   },
   {
    "duration": 44,
    "start_time": "2024-11-04T04:19:42.390Z"
   },
   {
    "duration": 8,
    "start_time": "2024-11-04T04:19:42.436Z"
   },
   {
    "duration": 33,
    "start_time": "2024-11-04T04:19:42.446Z"
   },
   {
    "duration": 50,
    "start_time": "2024-11-04T04:19:42.481Z"
   },
   {
    "duration": 8,
    "start_time": "2024-11-04T04:19:42.533Z"
   },
   {
    "duration": 6,
    "start_time": "2024-11-04T04:19:42.543Z"
   },
   {
    "duration": 138,
    "start_time": "2024-11-04T04:19:42.550Z"
   },
   {
    "duration": 4,
    "start_time": "2024-11-04T04:19:42.690Z"
   },
   {
    "duration": 3,
    "start_time": "2024-11-04T04:19:42.697Z"
   },
   {
    "duration": 213,
    "start_time": "2024-11-04T04:19:42.702Z"
   },
   {
    "duration": 135,
    "start_time": "2024-11-04T04:19:42.917Z"
   },
   {
    "duration": 218,
    "start_time": "2024-11-04T04:19:43.054Z"
   },
   {
    "duration": 10,
    "start_time": "2024-11-04T04:19:43.273Z"
   },
   {
    "duration": 6,
    "start_time": "2024-11-04T04:19:43.287Z"
   },
   {
    "duration": 3,
    "start_time": "2024-11-04T04:19:43.294Z"
   },
   {
    "duration": 263,
    "start_time": "2024-11-04T04:19:43.299Z"
   },
   {
    "duration": 43,
    "start_time": "2024-11-04T04:19:43.565Z"
   },
   {
    "duration": 967,
    "start_time": "2024-11-04T04:19:43.610Z"
   },
   {
    "duration": 607,
    "start_time": "2024-11-04T04:19:44.579Z"
   },
   {
    "duration": 0,
    "start_time": "2024-11-04T04:19:45.188Z"
   },
   {
    "duration": 0,
    "start_time": "2024-11-04T04:19:45.190Z"
   },
   {
    "duration": 22,
    "start_time": "2024-11-04T04:23:31.800Z"
   },
   {
    "duration": 518,
    "start_time": "2024-11-04T04:27:55.798Z"
   },
   {
    "duration": 1281,
    "start_time": "2024-11-04T04:28:59.782Z"
   },
   {
    "duration": 457,
    "start_time": "2024-11-04T04:29:38.515Z"
   },
   {
    "duration": 475,
    "start_time": "2024-11-04T04:30:15.724Z"
   },
   {
    "duration": 230,
    "start_time": "2024-11-04T04:30:16.201Z"
   },
   {
    "duration": 218,
    "start_time": "2024-11-04T04:30:52.083Z"
   },
   {
    "duration": 213,
    "start_time": "2024-11-04T04:31:12.561Z"
   },
   {
    "duration": 221,
    "start_time": "2024-11-04T04:33:35.102Z"
   },
   {
    "duration": 267,
    "start_time": "2024-11-04T04:38:57.105Z"
   },
   {
    "duration": 13,
    "start_time": "2024-11-04T04:39:16.768Z"
   },
   {
    "duration": 152,
    "start_time": "2024-11-04T04:40:00.448Z"
   },
   {
    "duration": 279,
    "start_time": "2024-11-04T04:42:55.638Z"
   },
   {
    "duration": 13,
    "start_time": "2024-11-04T04:42:55.919Z"
   },
   {
    "duration": 880,
    "start_time": "2024-11-04T04:43:21.938Z"
   },
   {
    "duration": 155,
    "start_time": "2024-11-04T04:44:18.020Z"
   },
   {
    "duration": 60,
    "start_time": "2024-11-04T04:46:06.997Z"
   },
   {
    "duration": 46,
    "start_time": "2024-11-04T04:46:28.125Z"
   },
   {
    "duration": 10,
    "start_time": "2024-11-04T04:47:52.079Z"
   },
   {
    "duration": 12,
    "start_time": "2024-11-04T04:48:46.426Z"
   },
   {
    "duration": 210,
    "start_time": "2024-11-04T04:49:50.937Z"
   },
   {
    "duration": 92,
    "start_time": "2024-11-04T04:53:25.667Z"
   },
   {
    "duration": 199,
    "start_time": "2024-11-04T04:54:05.116Z"
   },
   {
    "duration": 202,
    "start_time": "2024-11-04T04:54:52.657Z"
   },
   {
    "duration": 194,
    "start_time": "2024-11-04T04:54:56.764Z"
   },
   {
    "duration": 20,
    "start_time": "2024-11-04T04:55:56.318Z"
   },
   {
    "duration": 242,
    "start_time": "2024-11-04T04:56:54.751Z"
   },
   {
    "duration": 510,
    "start_time": "2024-11-04T05:01:30.724Z"
   },
   {
    "duration": 631,
    "start_time": "2024-11-04T05:01:51.741Z"
   },
   {
    "duration": 838,
    "start_time": "2024-11-04T05:02:08.413Z"
   },
   {
    "duration": 768,
    "start_time": "2024-11-04T05:02:41.222Z"
   },
   {
    "duration": 849,
    "start_time": "2024-11-04T05:03:03.374Z"
   },
   {
    "duration": 18,
    "start_time": "2024-11-04T05:03:18.984Z"
   },
   {
    "duration": 740,
    "start_time": "2024-11-04T05:03:50.609Z"
   },
   {
    "duration": 19,
    "start_time": "2024-11-04T05:03:53.403Z"
   },
   {
    "duration": 164,
    "start_time": "2024-11-04T05:04:09.299Z"
   },
   {
    "duration": 28,
    "start_time": "2024-11-04T05:07:52.138Z"
   },
   {
    "duration": 11,
    "start_time": "2024-11-04T05:08:28.413Z"
   },
   {
    "duration": 5,
    "start_time": "2024-11-04T05:08:45.731Z"
   },
   {
    "duration": 224,
    "start_time": "2024-11-04T05:09:05.578Z"
   },
   {
    "duration": 221,
    "start_time": "2024-11-04T05:09:20.835Z"
   }
  ],
  "colab": {
   "provenance": []
  },
  "kernelspec": {
   "display_name": "Python 3 (ipykernel)",
   "language": "python",
   "name": "python3"
  },
  "language_info": {
   "codemirror_mode": {
    "name": "ipython",
    "version": 3
   },
   "file_extension": ".py",
   "mimetype": "text/x-python",
   "name": "python",
   "nbconvert_exporter": "python",
   "pygments_lexer": "ipython3",
   "version": "3.9.19"
  },
  "toc": {
   "base_numbering": 1,
   "nav_menu": {},
   "number_sections": true,
   "sideBar": true,
   "skip_h1_title": true,
   "title_cell": "Table of Contents",
   "title_sidebar": "Contents",
   "toc_cell": false,
   "toc_position": {},
   "toc_section_display": true,
   "toc_window_display": false
  },
  "vscode": {
   "interpreter": {
    "hash": "01a7be9ec63e704a62cefc5fe7a4756944464ee731be31632bdf42a4cb4688cf"
   }
  }
 },
 "nbformat": 4,
 "nbformat_minor": 5
}
